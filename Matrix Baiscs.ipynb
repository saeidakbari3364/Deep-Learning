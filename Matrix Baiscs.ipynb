{
 "cells": [
  {
   "cell_type": "markdown",
   "id": "1c7c00eb",
   "metadata": {},
   "source": [
    "# Matrix Basics"
   ]
  },
  {
   "cell_type": "code",
   "execution_count": 1,
   "id": "d851f391",
   "metadata": {},
   "outputs": [],
   "source": [
    "import numpy as np"
   ]
  },
  {
   "cell_type": "code",
   "execution_count": 3,
   "id": "b828681b",
   "metadata": {},
   "outputs": [],
   "source": [
    "revenue=np.array([[100,200,300],[400,500,600],[700,800,900]])\n",
    "expenses=np.array([[10,20,30],[40,50,60],[70,80,90]])"
   ]
  },
  {
   "cell_type": "code",
   "execution_count": 4,
   "id": "fcff4b06",
   "metadata": {},
   "outputs": [
    {
     "data": {
      "text/plain": [
       "(3, 3)"
      ]
     },
     "execution_count": 4,
     "metadata": {},
     "output_type": "execute_result"
    }
   ],
   "source": [
    "revenue.shape"
   ]
  },
  {
   "cell_type": "code",
   "execution_count": 5,
   "id": "f2813af2",
   "metadata": {},
   "outputs": [
    {
     "data": {
      "text/plain": [
       "numpy.ndarray"
      ]
     },
     "execution_count": 5,
     "metadata": {},
     "output_type": "execute_result"
    }
   ],
   "source": [
    "type(revenue)"
   ]
  },
  {
   "cell_type": "code",
   "execution_count": 6,
   "id": "a0f68d94",
   "metadata": {},
   "outputs": [
    {
     "data": {
      "text/plain": [
       "2"
      ]
     },
     "execution_count": 6,
     "metadata": {},
     "output_type": "execute_result"
    }
   ],
   "source": [
    "revenue.ndim"
   ]
  },
  {
   "cell_type": "code",
   "execution_count": 7,
   "id": "a32f9221",
   "metadata": {},
   "outputs": [],
   "source": [
    "profit=revenue-expenses"
   ]
  },
  {
   "cell_type": "code",
   "execution_count": 8,
   "id": "466b1357",
   "metadata": {},
   "outputs": [
    {
     "data": {
      "text/plain": [
       "array([[ 90, 180, 270],\n",
       "       [360, 450, 540],\n",
       "       [630, 720, 810]])"
      ]
     },
     "execution_count": 8,
     "metadata": {},
     "output_type": "execute_result"
    }
   ],
   "source": [
    "profit"
   ]
  },
  {
   "cell_type": "code",
   "execution_count": 9,
   "id": "b934e9b3",
   "metadata": {},
   "outputs": [],
   "source": [
    "price=np.array([1000,200,400])"
   ]
  },
  {
   "cell_type": "code",
   "execution_count": 10,
   "id": "11cc31ea",
   "metadata": {},
   "outputs": [],
   "source": [
    "units=np.array([[100,200,300],[400,500,600],[700,800,9000]])"
   ]
  },
  {
   "cell_type": "code",
   "execution_count": 11,
   "id": "520b3291",
   "metadata": {},
   "outputs": [
    {
     "data": {
      "text/plain": [
       "array([[ 100000,   40000,  120000],\n",
       "       [ 400000,  100000,  240000],\n",
       "       [ 700000,  160000, 3600000]])"
      ]
     },
     "execution_count": 11,
     "metadata": {},
     "output_type": "execute_result"
    }
   ],
   "source": [
    "price*units"
   ]
  },
  {
   "cell_type": "code",
   "execution_count": 12,
   "id": "d7455855",
   "metadata": {},
   "outputs": [
    {
     "data": {
      "text/plain": [
       "array([ 460000,  620000, 4020000])"
      ]
     },
     "execution_count": 12,
     "metadata": {},
     "output_type": "execute_result"
    }
   ],
   "source": [
    "np.dot(price,units)"
   ]
  },
  {
   "cell_type": "code",
   "execution_count": null,
   "id": "23e03cb8",
   "metadata": {},
   "outputs": [],
   "source": [
    " "
   ]
  }
 ],
 "metadata": {
  "kernelspec": {
   "display_name": "Python 3 (ipykernel)",
   "language": "python",
   "name": "python3"
  },
  "language_info": {
   "codemirror_mode": {
    "name": "ipython",
    "version": 3
   },
   "file_extension": ".py",
   "mimetype": "text/x-python",
   "name": "python",
   "nbconvert_exporter": "python",
   "pygments_lexer": "ipython3",
   "version": "3.9.12"
  }
 },
 "nbformat": 4,
 "nbformat_minor": 5
}
