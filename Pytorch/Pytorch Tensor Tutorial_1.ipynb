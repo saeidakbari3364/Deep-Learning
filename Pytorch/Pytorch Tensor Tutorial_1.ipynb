{
 "cells": [
  {
   "cell_type": "code",
   "execution_count": 1,
   "id": "fd85e2ba",
   "metadata": {},
   "outputs": [],
   "source": [
    "import torch"
   ]
  },
  {
   "cell_type": "code",
   "execution_count": 2,
   "id": "b4c9e3a9",
   "metadata": {},
   "outputs": [],
   "source": [
    "#Create a Tensor"
   ]
  },
  {
   "cell_type": "code",
   "execution_count": 3,
   "id": "b69c793e",
   "metadata": {},
   "outputs": [],
   "source": [
    "my_tensor=torch.tensor([[1,2,3],[4,5,6]])"
   ]
  },
  {
   "cell_type": "code",
   "execution_count": 4,
   "id": "23364118",
   "metadata": {},
   "outputs": [
    {
     "data": {
      "text/plain": [
       "tensor([[1, 2, 3],\n",
       "        [4, 5, 6]])"
      ]
     },
     "execution_count": 4,
     "metadata": {},
     "output_type": "execute_result"
    }
   ],
   "source": [
    "my_tensor"
   ]
  },
  {
   "cell_type": "code",
   "execution_count": 5,
   "id": "c79468c6",
   "metadata": {},
   "outputs": [],
   "source": [
    "my_tensor=torch.tensor([[1,2,3],[4,5,6]],dtype=torch.float)"
   ]
  },
  {
   "cell_type": "code",
   "execution_count": 6,
   "id": "b1a4769b",
   "metadata": {},
   "outputs": [
    {
     "data": {
      "text/plain": [
       "tensor([[1., 2., 3.],\n",
       "        [4., 5., 6.]])"
      ]
     },
     "execution_count": 6,
     "metadata": {},
     "output_type": "execute_result"
    }
   ],
   "source": [
    "my_tensor"
   ]
  },
  {
   "cell_type": "code",
   "execution_count": 7,
   "id": "257b887a",
   "metadata": {},
   "outputs": [],
   "source": [
    "my_tensor=torch.tensor([[1,2,3],[4,5,6]],device='cpu',requires_grad=True,dtype=torch.float)#we can use cuda"
   ]
  },
  {
   "cell_type": "code",
   "execution_count": 8,
   "id": "738653c4",
   "metadata": {},
   "outputs": [],
   "source": [
    "device='cuda' if torch.cuda.is_available() else 'cpu'"
   ]
  },
  {
   "cell_type": "code",
   "execution_count": 9,
   "id": "b28a0919",
   "metadata": {},
   "outputs": [],
   "source": [
    "my_tensor=torch.tensor([[1,2,3],[4,5,6]],dtype=torch.float,device=device,requires_grad=True)#we can use cuda"
   ]
  },
  {
   "cell_type": "code",
   "execution_count": 10,
   "id": "669cf315",
   "metadata": {},
   "outputs": [
    {
     "data": {
      "text/plain": [
       "torch.float32"
      ]
     },
     "execution_count": 10,
     "metadata": {},
     "output_type": "execute_result"
    }
   ],
   "source": [
    "my_tensor.dtype"
   ]
  },
  {
   "cell_type": "code",
   "execution_count": 11,
   "id": "84fe0509",
   "metadata": {},
   "outputs": [
    {
     "data": {
      "text/plain": [
       "device(type='cpu')"
      ]
     },
     "execution_count": 11,
     "metadata": {},
     "output_type": "execute_result"
    }
   ],
   "source": [
    "my_tensor.device"
   ]
  },
  {
   "cell_type": "code",
   "execution_count": 12,
   "id": "58b2c7d3",
   "metadata": {},
   "outputs": [
    {
     "data": {
      "text/plain": [
       "torch.Size([2, 3])"
      ]
     },
     "execution_count": 12,
     "metadata": {},
     "output_type": "execute_result"
    }
   ],
   "source": [
    "my_tensor.shape"
   ]
  },
  {
   "cell_type": "code",
   "execution_count": 13,
   "id": "363ddd13",
   "metadata": {},
   "outputs": [
    {
     "data": {
      "text/plain": [
       "True"
      ]
     },
     "execution_count": 13,
     "metadata": {},
     "output_type": "execute_result"
    }
   ],
   "source": [
    "my_tensor.requires_grad"
   ]
  },
  {
   "cell_type": "code",
   "execution_count": 14,
   "id": "4622419b",
   "metadata": {},
   "outputs": [],
   "source": [
    "#other common initialization methods"
   ]
  },
  {
   "cell_type": "code",
   "execution_count": 15,
   "id": "60ae7623",
   "metadata": {},
   "outputs": [
    {
     "data": {
      "text/plain": [
       "tensor([[0., 0., 0.],\n",
       "        [0., 0., 0.],\n",
       "        [0., 0., 0.]])"
      ]
     },
     "execution_count": 15,
     "metadata": {},
     "output_type": "execute_result"
    }
   ],
   "source": [
    "x=torch.empty(size=(3,3))\n",
    "x"
   ]
  },
  {
   "cell_type": "code",
   "execution_count": 16,
   "id": "20121fc3",
   "metadata": {},
   "outputs": [
    {
     "data": {
      "text/plain": [
       "tensor([[0., 0., 0.],\n",
       "        [0., 0., 0.]])"
      ]
     },
     "execution_count": 16,
     "metadata": {},
     "output_type": "execute_result"
    }
   ],
   "source": [
    "x=torch.zeros((2,3))\n",
    "x"
   ]
  },
  {
   "cell_type": "code",
   "execution_count": 17,
   "id": "5339247d",
   "metadata": {},
   "outputs": [
    {
     "data": {
      "text/plain": [
       "tensor([[0.4423, 0.4684],\n",
       "        [0.1389, 0.6057],\n",
       "        [0.2408, 0.0935]])"
      ]
     },
     "execution_count": 17,
     "metadata": {},
     "output_type": "execute_result"
    }
   ],
   "source": [
    "x=torch.rand((3,2))\n",
    "x"
   ]
  },
  {
   "cell_type": "code",
   "execution_count": 18,
   "id": "08710f88",
   "metadata": {},
   "outputs": [
    {
     "data": {
      "text/plain": [
       "tensor([[1., 1., 1.],\n",
       "        [1., 1., 1.],\n",
       "        [1., 1., 1.]])"
      ]
     },
     "execution_count": 18,
     "metadata": {},
     "output_type": "execute_result"
    }
   ],
   "source": [
    "x=torch.ones((3,3))\n",
    "x"
   ]
  },
  {
   "cell_type": "code",
   "execution_count": 19,
   "id": "7ab4688c",
   "metadata": {},
   "outputs": [
    {
     "data": {
      "text/plain": [
       "tensor([[1., 0., 0., 0., 0.],\n",
       "        [0., 1., 0., 0., 0.],\n",
       "        [0., 0., 1., 0., 0.],\n",
       "        [0., 0., 0., 1., 0.],\n",
       "        [0., 0., 0., 0., 1.]])"
      ]
     },
     "execution_count": 19,
     "metadata": {},
     "output_type": "execute_result"
    }
   ],
   "source": [
    "x=torch.eye(5,5)#I =eye\n",
    "x"
   ]
  },
  {
   "cell_type": "code",
   "execution_count": 20,
   "id": "0574d779",
   "metadata": {},
   "outputs": [
    {
     "data": {
      "text/plain": [
       "tensor([0, 2, 4, 6, 8])"
      ]
     },
     "execution_count": 20,
     "metadata": {},
     "output_type": "execute_result"
    }
   ],
   "source": [
    "x=torch.arange(start=0,end=10,step=2)\n",
    "x"
   ]
  },
  {
   "cell_type": "code",
   "execution_count": 21,
   "id": "5f44cc35",
   "metadata": {},
   "outputs": [
    {
     "data": {
      "text/plain": [
       "tensor([0.1000, 0.2000, 0.3000, 0.4000, 0.5000, 0.6000, 0.7000, 0.8000, 0.9000,\n",
       "        1.0000])"
      ]
     },
     "execution_count": 21,
     "metadata": {},
     "output_type": "execute_result"
    }
   ],
   "source": [
    "x=torch.linspace(start=0.1,end=1,steps=10)\n",
    "x"
   ]
  },
  {
   "cell_type": "code",
   "execution_count": 22,
   "id": "f2f5cea3",
   "metadata": {},
   "outputs": [
    {
     "data": {
      "text/plain": [
       "tensor([[ 1.6977, -0.5400, -1.6536,  2.0024,  0.7839]])"
      ]
     },
     "execution_count": 22,
     "metadata": {},
     "output_type": "execute_result"
    }
   ],
   "source": [
    "x=torch.empty(size=(1,5)).normal_(mean=0,std=1)\n",
    "x"
   ]
  },
  {
   "cell_type": "code",
   "execution_count": 23,
   "id": "34729207",
   "metadata": {},
   "outputs": [
    {
     "data": {
      "text/plain": [
       "tensor([[0.2226, 0.1475, 0.2558, 0.8810, 0.4147]])"
      ]
     },
     "execution_count": 23,
     "metadata": {},
     "output_type": "execute_result"
    }
   ],
   "source": [
    "x=torch.empty(size=(1,5)).uniform_(0,1)\n",
    "x"
   ]
  },
  {
   "cell_type": "code",
   "execution_count": 24,
   "id": "4c67b51b",
   "metadata": {},
   "outputs": [
    {
     "data": {
      "text/plain": [
       "tensor([[1., 0., 0.],\n",
       "        [0., 1., 0.],\n",
       "        [0., 0., 1.]])"
      ]
     },
     "execution_count": 24,
     "metadata": {},
     "output_type": "execute_result"
    }
   ],
   "source": [
    "x=torch.diag(torch.ones(3))\n",
    "x"
   ]
  },
  {
   "cell_type": "code",
   "execution_count": 25,
   "id": "db2d51bd",
   "metadata": {},
   "outputs": [],
   "source": [
    "#How to initialize and convert tensors to other types(int,float,double)"
   ]
  },
  {
   "cell_type": "code",
   "execution_count": 26,
   "id": "32364df5",
   "metadata": {},
   "outputs": [
    {
     "data": {
      "text/plain": [
       "tensor([0, 1, 2, 3])"
      ]
     },
     "execution_count": 26,
     "metadata": {},
     "output_type": "execute_result"
    }
   ],
   "source": [
    "tensor=torch.arange(4)\n",
    "tensor"
   ]
  },
  {
   "cell_type": "code",
   "execution_count": 27,
   "id": "237640d4",
   "metadata": {},
   "outputs": [
    {
     "data": {
      "text/plain": [
       "tensor([False,  True,  True,  True])"
      ]
     },
     "execution_count": 27,
     "metadata": {},
     "output_type": "execute_result"
    }
   ],
   "source": [
    "tensor.bool()"
   ]
  },
  {
   "cell_type": "code",
   "execution_count": 28,
   "id": "572efc14",
   "metadata": {},
   "outputs": [
    {
     "data": {
      "text/plain": [
       "tensor([0, 1, 2, 3], dtype=torch.int16)"
      ]
     },
     "execution_count": 28,
     "metadata": {},
     "output_type": "execute_result"
    }
   ],
   "source": [
    "tensor.short()"
   ]
  },
  {
   "cell_type": "code",
   "execution_count": 29,
   "id": "275c46ac",
   "metadata": {},
   "outputs": [
    {
     "data": {
      "text/plain": [
       "tensor([0, 1, 2, 3])"
      ]
     },
     "execution_count": 29,
     "metadata": {},
     "output_type": "execute_result"
    }
   ],
   "source": [
    "tensor.long()#int 64"
   ]
  },
  {
   "cell_type": "code",
   "execution_count": 30,
   "id": "e10181ed",
   "metadata": {},
   "outputs": [
    {
     "data": {
      "text/plain": [
       "tensor([0., 1., 2., 3.], dtype=torch.float16)"
      ]
     },
     "execution_count": 30,
     "metadata": {},
     "output_type": "execute_result"
    }
   ],
   "source": [
    "tensor.half()"
   ]
  },
  {
   "cell_type": "code",
   "execution_count": 31,
   "id": "bc01e9df",
   "metadata": {},
   "outputs": [
    {
     "data": {
      "text/plain": [
       "tensor([0., 1., 2., 3.])"
      ]
     },
     "execution_count": 31,
     "metadata": {},
     "output_type": "execute_result"
    }
   ],
   "source": [
    "tensor.float()#float 32"
   ]
  },
  {
   "cell_type": "code",
   "execution_count": 32,
   "id": "4f5ac8be",
   "metadata": {},
   "outputs": [
    {
     "data": {
      "text/plain": [
       "tensor([0., 1., 2., 3.], dtype=torch.float64)"
      ]
     },
     "execution_count": 32,
     "metadata": {},
     "output_type": "execute_result"
    }
   ],
   "source": [
    "tensor.double()"
   ]
  },
  {
   "cell_type": "code",
   "execution_count": 33,
   "id": "eba7d6fd",
   "metadata": {},
   "outputs": [],
   "source": [
    "#Array to tensor conversation and vice-versa"
   ]
  },
  {
   "cell_type": "code",
   "execution_count": 34,
   "id": "5d68b5d8",
   "metadata": {},
   "outputs": [],
   "source": [
    "import numpy as np"
   ]
  },
  {
   "cell_type": "code",
   "execution_count": 35,
   "id": "b179aae1",
   "metadata": {},
   "outputs": [
    {
     "data": {
      "text/plain": [
       "array([0., 0., 0., 0., 0.])"
      ]
     },
     "execution_count": 35,
     "metadata": {},
     "output_type": "execute_result"
    }
   ],
   "source": [
    "np_array=np.zeros(5)\n",
    "np_array"
   ]
  },
  {
   "cell_type": "code",
   "execution_count": 36,
   "id": "45cba9ad",
   "metadata": {},
   "outputs": [
    {
     "data": {
      "text/plain": [
       "tensor([0., 0., 0., 0., 0.], dtype=torch.float64)"
      ]
     },
     "execution_count": 36,
     "metadata": {},
     "output_type": "execute_result"
    }
   ],
   "source": [
    "tensor=torch.from_numpy(np_array)\n",
    "tensor"
   ]
  },
  {
   "cell_type": "code",
   "execution_count": 37,
   "id": "4874f752",
   "metadata": {},
   "outputs": [
    {
     "data": {
      "text/plain": [
       "array([0., 0., 0., 0., 0.])"
      ]
     },
     "execution_count": 37,
     "metadata": {},
     "output_type": "execute_result"
    }
   ],
   "source": [
    "np_array_back=tensor.numpy()\n",
    "np_array_back"
   ]
  },
  {
   "cell_type": "code",
   "execution_count": 38,
   "id": "16e1dcc7",
   "metadata": {},
   "outputs": [],
   "source": [
    "#tensor math and Compaasion operations"
   ]
  },
  {
   "cell_type": "code",
   "execution_count": 39,
   "id": "51e5dddb",
   "metadata": {},
   "outputs": [],
   "source": [
    "x=torch.tensor([1,2,3])\n",
    "y=torch.tensor([4,5,6])"
   ]
  },
  {
   "cell_type": "code",
   "execution_count": 40,
   "id": "566a916e",
   "metadata": {},
   "outputs": [
    {
     "data": {
      "text/plain": [
       "tensor([1, 2, 3])"
      ]
     },
     "execution_count": 40,
     "metadata": {},
     "output_type": "execute_result"
    }
   ],
   "source": [
    "x"
   ]
  },
  {
   "cell_type": "code",
   "execution_count": 41,
   "id": "2d4bb024",
   "metadata": {},
   "outputs": [
    {
     "data": {
      "text/plain": [
       "tensor([4, 5, 6])"
      ]
     },
     "execution_count": 41,
     "metadata": {},
     "output_type": "execute_result"
    }
   ],
   "source": [
    "y"
   ]
  },
  {
   "cell_type": "code",
   "execution_count": 42,
   "id": "d6fd751b",
   "metadata": {},
   "outputs": [],
   "source": [
    "#Addition"
   ]
  },
  {
   "cell_type": "code",
   "execution_count": 43,
   "id": "b24f0f6c",
   "metadata": {},
   "outputs": [
    {
     "data": {
      "text/plain": [
       "tensor([5., 7., 9.])"
      ]
     },
     "execution_count": 43,
     "metadata": {},
     "output_type": "execute_result"
    }
   ],
   "source": [
    "z1=torch.empty((3))\n",
    "torch.add(x,y,out=z1)"
   ]
  },
  {
   "cell_type": "code",
   "execution_count": 44,
   "id": "388556b4",
   "metadata": {},
   "outputs": [],
   "source": [
    "z2=torch.add(x,y)"
   ]
  },
  {
   "cell_type": "code",
   "execution_count": 45,
   "id": "cdfb5ab5",
   "metadata": {},
   "outputs": [
    {
     "data": {
      "text/plain": [
       "tensor([5, 7, 9])"
      ]
     },
     "execution_count": 45,
     "metadata": {},
     "output_type": "execute_result"
    }
   ],
   "source": [
    "z2"
   ]
  },
  {
   "cell_type": "code",
   "execution_count": 46,
   "id": "6f9bae9a",
   "metadata": {},
   "outputs": [
    {
     "data": {
      "text/plain": [
       "tensor([5, 7, 9])"
      ]
     },
     "execution_count": 46,
     "metadata": {},
     "output_type": "execute_result"
    }
   ],
   "source": [
    "z3=x+y\n",
    "z3"
   ]
  },
  {
   "cell_type": "code",
   "execution_count": 47,
   "id": "ee35f9db",
   "metadata": {},
   "outputs": [],
   "source": [
    "#Subtraction"
   ]
  },
  {
   "cell_type": "code",
   "execution_count": 48,
   "id": "09c2f581",
   "metadata": {},
   "outputs": [],
   "source": [
    "z=x-y"
   ]
  },
  {
   "cell_type": "code",
   "execution_count": 49,
   "id": "d4c4ddb6",
   "metadata": {},
   "outputs": [],
   "source": [
    "#Division"
   ]
  },
  {
   "cell_type": "code",
   "execution_count": 50,
   "id": "4a2bbda9",
   "metadata": {},
   "outputs": [],
   "source": [
    "z4=torch.true_divide(x,y)\n"
   ]
  },
  {
   "cell_type": "code",
   "execution_count": 51,
   "id": "3a61b0bc",
   "metadata": {},
   "outputs": [
    {
     "data": {
      "text/plain": [
       "tensor([0.2500, 0.4000, 0.5000])"
      ]
     },
     "execution_count": 51,
     "metadata": {},
     "output_type": "execute_result"
    }
   ],
   "source": [
    "z4"
   ]
  },
  {
   "cell_type": "code",
   "execution_count": 52,
   "id": "6698bb39",
   "metadata": {},
   "outputs": [],
   "source": [
    "#inplace operations"
   ]
  },
  {
   "cell_type": "code",
   "execution_count": 53,
   "id": "a2985717",
   "metadata": {},
   "outputs": [
    {
     "data": {
      "text/plain": [
       "tensor([0., 0., 0.])"
      ]
     },
     "execution_count": 53,
     "metadata": {},
     "output_type": "execute_result"
    }
   ],
   "source": [
    "t=torch.zeros(3)\n",
    "t"
   ]
  },
  {
   "cell_type": "code",
   "execution_count": 54,
   "id": "5da32bbe",
   "metadata": {},
   "outputs": [
    {
     "data": {
      "text/plain": [
       "tensor([1., 2., 3.])"
      ]
     },
     "execution_count": 54,
     "metadata": {},
     "output_type": "execute_result"
    }
   ],
   "source": [
    "t.add_(x)"
   ]
  },
  {
   "cell_type": "code",
   "execution_count": 55,
   "id": "b07acb5c",
   "metadata": {},
   "outputs": [],
   "source": [
    "t+=x"
   ]
  },
  {
   "cell_type": "code",
   "execution_count": 56,
   "id": "93da4511",
   "metadata": {},
   "outputs": [
    {
     "data": {
      "text/plain": [
       "tensor([2., 4., 6.])"
      ]
     },
     "execution_count": 56,
     "metadata": {},
     "output_type": "execute_result"
    }
   ],
   "source": [
    "t"
   ]
  },
  {
   "cell_type": "code",
   "execution_count": 57,
   "id": "a2186a52",
   "metadata": {},
   "outputs": [],
   "source": [
    "#Exponentiation"
   ]
  },
  {
   "cell_type": "code",
   "execution_count": 58,
   "id": "77a74ffc",
   "metadata": {},
   "outputs": [],
   "source": [
    "z5=x.pow(2)"
   ]
  },
  {
   "cell_type": "code",
   "execution_count": 59,
   "id": "5a27c9f8",
   "metadata": {},
   "outputs": [
    {
     "data": {
      "text/plain": [
       "tensor([1, 4, 9])"
      ]
     },
     "execution_count": 59,
     "metadata": {},
     "output_type": "execute_result"
    }
   ],
   "source": [
    "z5"
   ]
  },
  {
   "cell_type": "code",
   "execution_count": 60,
   "id": "efaaf267",
   "metadata": {},
   "outputs": [],
   "source": [
    "z=x**2"
   ]
  },
  {
   "cell_type": "code",
   "execution_count": 61,
   "id": "38705ecf",
   "metadata": {},
   "outputs": [
    {
     "data": {
      "text/plain": [
       "tensor([1, 4, 9])"
      ]
     },
     "execution_count": 61,
     "metadata": {},
     "output_type": "execute_result"
    }
   ],
   "source": [
    "z"
   ]
  },
  {
   "cell_type": "code",
   "execution_count": 62,
   "id": "aa2bd529",
   "metadata": {},
   "outputs": [
    {
     "data": {
      "text/plain": [
       "tensor([True, True, True])"
      ]
     },
     "execution_count": 62,
     "metadata": {},
     "output_type": "execute_result"
    }
   ],
   "source": [
    "z=x>0\n",
    "z"
   ]
  },
  {
   "cell_type": "code",
   "execution_count": 63,
   "id": "78d9f86d",
   "metadata": {},
   "outputs": [
    {
     "data": {
      "text/plain": [
       "tensor([False, False, False])"
      ]
     },
     "execution_count": 63,
     "metadata": {},
     "output_type": "execute_result"
    }
   ],
   "source": [
    "z=x<0\n",
    "z"
   ]
  },
  {
   "cell_type": "code",
   "execution_count": 64,
   "id": "2aea9d11",
   "metadata": {},
   "outputs": [],
   "source": [
    "#Matrix Multiplication"
   ]
  },
  {
   "cell_type": "code",
   "execution_count": 65,
   "id": "e03869e0",
   "metadata": {},
   "outputs": [],
   "source": [
    "x1=torch.rand((2,5))"
   ]
  },
  {
   "cell_type": "code",
   "execution_count": 66,
   "id": "a965088b",
   "metadata": {},
   "outputs": [
    {
     "data": {
      "text/plain": [
       "tensor([[0.7591, 0.0584, 0.4813, 0.6242, 0.4046],\n",
       "        [0.3111, 0.6159, 0.5884, 0.3590, 0.6598]])"
      ]
     },
     "execution_count": 66,
     "metadata": {},
     "output_type": "execute_result"
    }
   ],
   "source": [
    "x1"
   ]
  },
  {
   "cell_type": "code",
   "execution_count": 67,
   "id": "c4855ef1",
   "metadata": {},
   "outputs": [
    {
     "data": {
      "text/plain": [
       "tensor([[0.9532, 0.7937, 0.4477],\n",
       "        [0.8803, 0.2681, 0.1813],\n",
       "        [0.4945, 0.7176, 0.7526],\n",
       "        [0.3224, 0.5558, 0.5770],\n",
       "        [0.2505, 0.6654, 0.3477]])"
      ]
     },
     "execution_count": 67,
     "metadata": {},
     "output_type": "execute_result"
    }
   ],
   "source": [
    "x2=torch.rand((5,3))\n",
    "x2"
   ]
  },
  {
   "cell_type": "code",
   "execution_count": 68,
   "id": "43e05035",
   "metadata": {},
   "outputs": [
    {
     "data": {
      "text/plain": [
       "tensor([[1.3156, 1.5797, 1.2135],\n",
       "        [1.4107, 1.4728, 1.1303]])"
      ]
     },
     "execution_count": 68,
     "metadata": {},
     "output_type": "execute_result"
    }
   ],
   "source": [
    "x3=torch.mm(x1,x2)\n",
    "x3"
   ]
  },
  {
   "cell_type": "code",
   "execution_count": 69,
   "id": "e32e69ad",
   "metadata": {},
   "outputs": [],
   "source": [
    "x3=x1.mm(x2)"
   ]
  },
  {
   "cell_type": "code",
   "execution_count": 70,
   "id": "44bb9f02",
   "metadata": {},
   "outputs": [
    {
     "data": {
      "text/plain": [
       "tensor([[1.3156, 1.5797, 1.2135],\n",
       "        [1.4107, 1.4728, 1.1303]])"
      ]
     },
     "execution_count": 70,
     "metadata": {},
     "output_type": "execute_result"
    }
   ],
   "source": [
    "x3"
   ]
  },
  {
   "cell_type": "code",
   "execution_count": 71,
   "id": "50a52786",
   "metadata": {},
   "outputs": [],
   "source": [
    "#matrix exponentiation"
   ]
  },
  {
   "cell_type": "code",
   "execution_count": 72,
   "id": "d092b35a",
   "metadata": {},
   "outputs": [
    {
     "data": {
      "text/plain": [
       "tensor([[0.3791, 0.0324],\n",
       "        [0.1078, 0.8286]])"
      ]
     },
     "execution_count": 72,
     "metadata": {},
     "output_type": "execute_result"
    }
   ],
   "source": [
    "matrix_exp=torch.rand((2,2))\n",
    "matrix_exp"
   ]
  },
  {
   "cell_type": "code",
   "execution_count": 73,
   "id": "d4bbab47",
   "metadata": {},
   "outputs": [
    {
     "data": {
      "text/plain": [
       "tensor([[0.0600, 0.0371],\n",
       "        [0.1238, 0.5760]])"
      ]
     },
     "execution_count": 73,
     "metadata": {},
     "output_type": "execute_result"
    }
   ],
   "source": [
    "matrix_exp.matrix_power(3)"
   ]
  },
  {
   "cell_type": "code",
   "execution_count": 74,
   "id": "aac42093",
   "metadata": {},
   "outputs": [],
   "source": [
    "#Element wise multiplication"
   ]
  },
  {
   "cell_type": "code",
   "execution_count": 75,
   "id": "e059dcad",
   "metadata": {},
   "outputs": [],
   "source": [
    "z=x*y"
   ]
  },
  {
   "cell_type": "code",
   "execution_count": 76,
   "id": "7b85fcf3",
   "metadata": {},
   "outputs": [
    {
     "data": {
      "text/plain": [
       "tensor([ 4, 10, 18])"
      ]
     },
     "execution_count": 76,
     "metadata": {},
     "output_type": "execute_result"
    }
   ],
   "source": [
    "z"
   ]
  },
  {
   "cell_type": "code",
   "execution_count": 77,
   "id": "2f4a1200",
   "metadata": {},
   "outputs": [],
   "source": [
    "#dot product"
   ]
  },
  {
   "cell_type": "code",
   "execution_count": 78,
   "id": "0134133d",
   "metadata": {},
   "outputs": [],
   "source": [
    "z=torch.dot(x,y)"
   ]
  },
  {
   "cell_type": "code",
   "execution_count": 79,
   "id": "0b3eb66a",
   "metadata": {},
   "outputs": [
    {
     "data": {
      "text/plain": [
       "tensor(32)"
      ]
     },
     "execution_count": 79,
     "metadata": {},
     "output_type": "execute_result"
    }
   ],
   "source": [
    "z"
   ]
  },
  {
   "cell_type": "code",
   "execution_count": 80,
   "id": "10cd913d",
   "metadata": {},
   "outputs": [],
   "source": [
    "#batch Matrix Multiplication"
   ]
  },
  {
   "cell_type": "code",
   "execution_count": 81,
   "id": "9b7d319e",
   "metadata": {},
   "outputs": [],
   "source": [
    "batch=32\n",
    "n=10\n",
    "m=20\n",
    "p=30"
   ]
  },
  {
   "cell_type": "code",
   "execution_count": 82,
   "id": "634d232a",
   "metadata": {},
   "outputs": [],
   "source": [
    "tensor1=torch.rand((batch,n,m))"
   ]
  },
  {
   "cell_type": "code",
   "execution_count": 83,
   "id": "c50143d9",
   "metadata": {},
   "outputs": [],
   "source": [
    "tensor2=torch.rand((batch,m,p))"
   ]
  },
  {
   "cell_type": "code",
   "execution_count": 84,
   "id": "30dc3e70",
   "metadata": {},
   "outputs": [],
   "source": [
    "out_bmm=torch.bmm(tensor1,tensor2)"
   ]
  },
  {
   "cell_type": "code",
   "execution_count": 85,
   "id": "f59e9c14",
   "metadata": {},
   "outputs": [],
   "source": [
    "#Example of Broadcasting"
   ]
  },
  {
   "cell_type": "code",
   "execution_count": 86,
   "id": "a4f64c8d",
   "metadata": {},
   "outputs": [],
   "source": [
    "x1=torch.rand((5,5))\n",
    "x2=torch.rand((1,5))\n"
   ]
  },
  {
   "cell_type": "code",
   "execution_count": 87,
   "id": "91ee759b",
   "metadata": {},
   "outputs": [
    {
     "data": {
      "text/plain": [
       "tensor([[-0.5328, -0.0792,  0.1158, -0.3650,  0.0205],\n",
       "        [-0.4289, -0.3533,  0.3818, -0.8491, -0.0047],\n",
       "        [ 0.3351, -0.1454, -0.0045, -0.8000, -0.0541],\n",
       "        [-0.4530, -0.9187,  0.5263, -0.0842,  0.4066],\n",
       "        [ 0.2250, -0.6517,  0.7357, -0.3207,  0.2264]])"
      ]
     },
     "execution_count": 87,
     "metadata": {},
     "output_type": "execute_result"
    }
   ],
   "source": [
    "z=x1-x2\n",
    "z"
   ]
  },
  {
   "cell_type": "code",
   "execution_count": 88,
   "id": "148c7d3a",
   "metadata": {},
   "outputs": [
    {
     "data": {
      "text/plain": [
       "tensor([[0.2432, 0.9175, 0.8981, 0.5778, 0.7104],\n",
       "        [0.3719, 0.6442, 0.9507, 0.0818, 0.6931],\n",
       "        [0.9866, 0.8515, 0.8372, 0.1372, 0.6573],\n",
       "        [0.3445, 0.0785, 0.9675, 0.8431, 0.9282],\n",
       "        [0.9136, 0.3461, 0.9860, 0.6204, 0.8357]])"
      ]
     },
     "execution_count": 88,
     "metadata": {},
     "output_type": "execute_result"
    }
   ],
   "source": [
    "z=x1**x2\n",
    "z"
   ]
  },
  {
   "cell_type": "code",
   "execution_count": 89,
   "id": "18996263",
   "metadata": {},
   "outputs": [],
   "source": [
    "#Other useful tensor Operations\n"
   ]
  },
  {
   "cell_type": "code",
   "execution_count": 90,
   "id": "01d6b722",
   "metadata": {},
   "outputs": [
    {
     "data": {
      "text/plain": [
       "tensor([2.3664, 2.8340, 2.0668, 2.1496, 2.7761])"
      ]
     },
     "execution_count": 90,
     "metadata": {},
     "output_type": "execute_result"
    }
   ],
   "source": [
    "sum_x=torch.sum(x1,dim=0)\n",
    "sum_x"
   ]
  },
  {
   "cell_type": "code",
   "execution_count": 91,
   "id": "b8523047",
   "metadata": {},
   "outputs": [
    {
     "data": {
      "text/plain": [
       "tensor([0.9793, 0.9173, 0.7981, 0.8296, 0.8429])"
      ]
     },
     "execution_count": 91,
     "metadata": {},
     "output_type": "execute_result"
    }
   ],
   "source": [
    "vlaues,indices=torch.max(x1,dim=0)\n",
    "vlaues"
   ]
  },
  {
   "cell_type": "code",
   "execution_count": 92,
   "id": "ec50a5bc",
   "metadata": {},
   "outputs": [
    {
     "data": {
      "text/plain": [
       "tensor([2, 0, 4, 3, 3])"
      ]
     },
     "execution_count": 92,
     "metadata": {},
     "output_type": "execute_result"
    }
   ],
   "source": [
    "indices"
   ]
  },
  {
   "cell_type": "code",
   "execution_count": 93,
   "id": "9abaacf0",
   "metadata": {},
   "outputs": [],
   "source": [
    "vlaues,indices=torch.min(x1,dim=0)\n"
   ]
  },
  {
   "cell_type": "code",
   "execution_count": 94,
   "id": "f5a83af9",
   "metadata": {},
   "outputs": [
    {
     "data": {
      "text/plain": [
       "tensor([[0.1114, 0.9173, 0.1782, 0.5487, 0.4568],\n",
       "        [0.2153, 0.6432, 0.4441, 0.0646, 0.4316],\n",
       "        [0.9793, 0.8510, 0.0578, 0.1137, 0.3822],\n",
       "        [0.1912, 0.0778, 0.5886, 0.8296, 0.8429],\n",
       "        [0.8692, 0.3448, 0.7981, 0.5930, 0.6627]])"
      ]
     },
     "execution_count": 94,
     "metadata": {},
     "output_type": "execute_result"
    }
   ],
   "source": [
    "abs_x=torch.abs(x1)\n",
    "abs_x"
   ]
  },
  {
   "cell_type": "code",
   "execution_count": 95,
   "id": "667d03fc",
   "metadata": {},
   "outputs": [
    {
     "data": {
      "text/plain": [
       "tensor([2, 0, 4, 3, 3])"
      ]
     },
     "execution_count": 95,
     "metadata": {},
     "output_type": "execute_result"
    }
   ],
   "source": [
    "z=torch.argmax(x1,dim=0)\n",
    "z"
   ]
  },
  {
   "cell_type": "code",
   "execution_count": 96,
   "id": "c05dd2d9",
   "metadata": {},
   "outputs": [
    {
     "data": {
      "text/plain": [
       "tensor([0, 3, 2, 1, 2])"
      ]
     },
     "execution_count": 96,
     "metadata": {},
     "output_type": "execute_result"
    }
   ],
   "source": [
    "z=torch.argmin(x1,dim=0)\n",
    "z"
   ]
  },
  {
   "cell_type": "code",
   "execution_count": 97,
   "id": "28eaaa06",
   "metadata": {},
   "outputs": [
    {
     "data": {
      "text/plain": [
       "tensor([0.4733, 0.5668, 0.4134, 0.4299, 0.5552])"
      ]
     },
     "execution_count": 97,
     "metadata": {},
     "output_type": "execute_result"
    }
   ],
   "source": [
    "mean_x=torch.mean(x1,dim=0)\n",
    "mean_x"
   ]
  },
  {
   "cell_type": "code",
   "execution_count": 98,
   "id": "b52c9ad9",
   "metadata": {},
   "outputs": [
    {
     "data": {
      "text/plain": [
       "tensor([[False, False, False, False, False],\n",
       "        [False, False, False, False, False],\n",
       "        [False, False, False, False, False],\n",
       "        [False, False, False, False, False],\n",
       "        [False, False, False, False, False]])"
      ]
     },
     "execution_count": 98,
     "metadata": {},
     "output_type": "execute_result"
    }
   ],
   "source": [
    "z=torch.eq(x1,x2)#elemnet wise equal\n",
    "z"
   ]
  },
  {
   "cell_type": "code",
   "execution_count": 99,
   "id": "37970c21",
   "metadata": {},
   "outputs": [
    {
     "data": {
      "text/plain": [
       "torch.return_types.sort(\n",
       "values=tensor([3, 2, 1]),\n",
       "indices=tensor([2, 1, 0]))"
      ]
     },
     "execution_count": 99,
     "metadata": {},
     "output_type": "execute_result"
    }
   ],
   "source": [
    "x=torch.tensor([1,2,3])\n",
    "x_sort=torch.sort(x,dim=0,descending=True)\n",
    "x_sort"
   ]
  },
  {
   "cell_type": "code",
   "execution_count": 100,
   "id": "0b593e0a",
   "metadata": {},
   "outputs": [
    {
     "data": {
      "text/plain": [
       "tensor([1, 2, 3])"
      ]
     },
     "execution_count": 100,
     "metadata": {},
     "output_type": "execute_result"
    }
   ],
   "source": [
    "x_less_than_zero=torch.clamp(x,min=0)\n",
    "x_less_than_zero"
   ]
  },
  {
   "cell_type": "code",
   "execution_count": 101,
   "id": "bc708716",
   "metadata": {},
   "outputs": [
    {
     "data": {
      "text/plain": [
       "tensor([ True, False,  True,  True,  True])"
      ]
     },
     "execution_count": 101,
     "metadata": {},
     "output_type": "execute_result"
    }
   ],
   "source": [
    "x=torch.tensor([1,0,1,1,1],dtype=torch.bool)\n",
    "x"
   ]
  },
  {
   "cell_type": "code",
   "execution_count": 102,
   "id": "9e543a73",
   "metadata": {},
   "outputs": [
    {
     "data": {
      "text/plain": [
       "tensor(True)"
      ]
     },
     "execution_count": 102,
     "metadata": {},
     "output_type": "execute_result"
    }
   ],
   "source": [
    "z=torch.any(x)#at least one of them should be True\n",
    "z"
   ]
  },
  {
   "cell_type": "code",
   "execution_count": 103,
   "id": "ee4b11c6",
   "metadata": {},
   "outputs": [
    {
     "data": {
      "text/plain": [
       "tensor(False)"
      ]
     },
     "execution_count": 103,
     "metadata": {},
     "output_type": "execute_result"
    }
   ],
   "source": [
    "z=torch.all(x)#all of the value must be True\n",
    "z"
   ]
  },
  {
   "cell_type": "code",
   "execution_count": 104,
   "id": "ba4cdd7c",
   "metadata": {},
   "outputs": [],
   "source": [
    "#-------------------------Tensor Indexing----------------"
   ]
  },
  {
   "cell_type": "code",
   "execution_count": 105,
   "id": "9cfcb837",
   "metadata": {},
   "outputs": [],
   "source": [
    "batch_size=10\n",
    "features=25\n",
    "x=torch.rand((batch_size,features))"
   ]
  },
  {
   "cell_type": "code",
   "execution_count": 106,
   "id": "c586759e",
   "metadata": {},
   "outputs": [
    {
     "data": {
      "text/plain": [
       "tensor([0.8079, 0.6875, 0.5059, 0.0606, 0.4250, 0.9402, 0.1070, 0.7338, 0.9707,\n",
       "        0.8466, 0.7573, 0.9679, 0.1331, 0.2070, 0.5538, 0.9589, 0.4065, 0.1637,\n",
       "        0.4310, 0.5198, 0.5143, 0.7549, 0.2906, 0.1823, 0.6103])"
      ]
     },
     "execution_count": 106,
     "metadata": {},
     "output_type": "execute_result"
    }
   ],
   "source": [
    "x[0]"
   ]
  },
  {
   "cell_type": "code",
   "execution_count": 107,
   "id": "3a7ab422",
   "metadata": {},
   "outputs": [
    {
     "data": {
      "text/plain": [
       "torch.Size([25])"
      ]
     },
     "execution_count": 107,
     "metadata": {},
     "output_type": "execute_result"
    }
   ],
   "source": [
    "x[0].shape"
   ]
  },
  {
   "cell_type": "code",
   "execution_count": 108,
   "id": "c981f0c1",
   "metadata": {},
   "outputs": [
    {
     "data": {
      "text/plain": [
       "torch.Size([10, 25])"
      ]
     },
     "execution_count": 108,
     "metadata": {},
     "output_type": "execute_result"
    }
   ],
   "source": [
    "x.shape"
   ]
  },
  {
   "cell_type": "code",
   "execution_count": 109,
   "id": "e3e2a2ab",
   "metadata": {},
   "outputs": [
    {
     "data": {
      "text/plain": [
       "tensor([0.8079, 0.5157, 0.8049, 0.9474, 0.3509, 0.1099, 0.5150, 0.8731, 0.6912,\n",
       "        0.3647])"
      ]
     },
     "execution_count": 109,
     "metadata": {},
     "output_type": "execute_result"
    }
   ],
   "source": [
    "x[:,0]"
   ]
  },
  {
   "cell_type": "code",
   "execution_count": 110,
   "id": "b4eabff6",
   "metadata": {},
   "outputs": [
    {
     "data": {
      "text/plain": [
       "torch.Size([10])"
      ]
     },
     "execution_count": 110,
     "metadata": {},
     "output_type": "execute_result"
    }
   ],
   "source": [
    "x[:,0].shape"
   ]
  },
  {
   "cell_type": "code",
   "execution_count": 111,
   "id": "a2af496d",
   "metadata": {},
   "outputs": [
    {
     "data": {
      "text/plain": [
       "tensor([0.8049, 0.4562, 0.1710, 0.5216, 0.6104, 0.0167, 0.7721, 0.8641, 0.9412,\n",
       "        0.7751])"
      ]
     },
     "execution_count": 111,
     "metadata": {},
     "output_type": "execute_result"
    }
   ],
   "source": [
    "x[2,0:10]"
   ]
  },
  {
   "cell_type": "code",
   "execution_count": 112,
   "id": "8c0658a2",
   "metadata": {},
   "outputs": [],
   "source": [
    "x[0,0]=100"
   ]
  },
  {
   "cell_type": "code",
   "execution_count": 113,
   "id": "bee9aeab",
   "metadata": {},
   "outputs": [],
   "source": [
    "#fancy indexing"
   ]
  },
  {
   "cell_type": "code",
   "execution_count": 114,
   "id": "ca82876a",
   "metadata": {},
   "outputs": [
    {
     "data": {
      "text/plain": [
       "tensor([0, 1, 2, 3, 4, 5, 6, 7, 8, 9])"
      ]
     },
     "execution_count": 114,
     "metadata": {},
     "output_type": "execute_result"
    }
   ],
   "source": [
    "x=torch.arange(10)\n",
    "x"
   ]
  },
  {
   "cell_type": "code",
   "execution_count": 115,
   "id": "03ad0c39",
   "metadata": {},
   "outputs": [
    {
     "data": {
      "text/plain": [
       "[2, 5, 8]"
      ]
     },
     "execution_count": 115,
     "metadata": {},
     "output_type": "execute_result"
    }
   ],
   "source": [
    "indices=[2,5,8]\n",
    "indices"
   ]
  },
  {
   "cell_type": "code",
   "execution_count": 116,
   "id": "867344b0",
   "metadata": {},
   "outputs": [
    {
     "data": {
      "text/plain": [
       "tensor([2, 5, 8])"
      ]
     },
     "execution_count": 116,
     "metadata": {},
     "output_type": "execute_result"
    }
   ],
   "source": [
    "x[indices]"
   ]
  },
  {
   "cell_type": "code",
   "execution_count": 117,
   "id": "57c8e8a6",
   "metadata": {},
   "outputs": [
    {
     "name": "stdout",
     "output_type": "stream",
     "text": [
      "tensor([[0.1951, 0.2223, 0.7127, 0.8813, 0.1441],\n",
      "        [0.3810, 0.0284, 0.1307, 0.3278, 0.3581],\n",
      "        [0.8798, 0.5061, 0.0352, 0.7363, 0.1372]])\n"
     ]
    },
    {
     "data": {
      "text/plain": [
       "tensor([0.3581, 0.1951])"
      ]
     },
     "execution_count": 117,
     "metadata": {},
     "output_type": "execute_result"
    }
   ],
   "source": [
    "x=torch.rand((3,5))\n",
    "print(x)\n",
    "rows=torch.tensor(([1,0]))\n",
    "cols=torch.tensor(([4,0]))\n",
    "x[rows,cols]"
   ]
  },
  {
   "cell_type": "code",
   "execution_count": 118,
   "id": "321dbb03",
   "metadata": {},
   "outputs": [],
   "source": [
    "#more advanced indexing"
   ]
  },
  {
   "cell_type": "code",
   "execution_count": 119,
   "id": "39165f32",
   "metadata": {},
   "outputs": [
    {
     "data": {
      "text/plain": [
       "tensor([0, 1])"
      ]
     },
     "execution_count": 119,
     "metadata": {},
     "output_type": "execute_result"
    }
   ],
   "source": [
    "x=torch.arange(10)\n",
    "x[x<2]"
   ]
  },
  {
   "cell_type": "code",
   "execution_count": 120,
   "id": "bc606a9d",
   "metadata": {},
   "outputs": [
    {
     "data": {
      "text/plain": [
       "tensor([6, 7, 8, 9])"
      ]
     },
     "execution_count": 120,
     "metadata": {},
     "output_type": "execute_result"
    }
   ],
   "source": [
    "x[x>5]"
   ]
  },
  {
   "cell_type": "code",
   "execution_count": 121,
   "id": "d4883567",
   "metadata": {},
   "outputs": [
    {
     "data": {
      "text/plain": [
       "tensor([0, 1, 8, 9])"
      ]
     },
     "execution_count": 121,
     "metadata": {},
     "output_type": "execute_result"
    }
   ],
   "source": [
    "x[(x<2) | (x>7)]"
   ]
  },
  {
   "cell_type": "code",
   "execution_count": 122,
   "id": "f8cf29c0",
   "metadata": {},
   "outputs": [
    {
     "data": {
      "text/plain": [
       "tensor([8])"
      ]
     },
     "execution_count": 122,
     "metadata": {},
     "output_type": "execute_result"
    }
   ],
   "source": [
    "x[(x>7) & (x<9)]"
   ]
  },
  {
   "cell_type": "code",
   "execution_count": 123,
   "id": "7dd0aedb",
   "metadata": {},
   "outputs": [
    {
     "data": {
      "text/plain": [
       "tensor([1, 3, 5, 7, 9])"
      ]
     },
     "execution_count": 123,
     "metadata": {},
     "output_type": "execute_result"
    }
   ],
   "source": [
    "x[x.remainder(2)==1]"
   ]
  },
  {
   "cell_type": "code",
   "execution_count": 124,
   "id": "0fddeece",
   "metadata": {},
   "outputs": [
    {
     "data": {
      "text/plain": [
       "tensor([0, 2, 4, 6, 8])"
      ]
     },
     "execution_count": 124,
     "metadata": {},
     "output_type": "execute_result"
    }
   ],
   "source": [
    "x[x.remainder(2)==0]"
   ]
  },
  {
   "cell_type": "code",
   "execution_count": 125,
   "id": "5b13a84f",
   "metadata": {},
   "outputs": [
    {
     "data": {
      "text/plain": [
       "tensor([0, 1, 2, 3, 4, 5, 6, 7, 8, 9])"
      ]
     },
     "execution_count": 125,
     "metadata": {},
     "output_type": "execute_result"
    }
   ],
   "source": [
    "x[x.remainder(1)==0]"
   ]
  },
  {
   "cell_type": "code",
   "execution_count": 126,
   "id": "5f01895a",
   "metadata": {},
   "outputs": [],
   "source": [
    "#Useful Operations"
   ]
  },
  {
   "cell_type": "code",
   "execution_count": 127,
   "id": "c84c7e9f",
   "metadata": {},
   "outputs": [
    {
     "data": {
      "text/plain": [
       "tensor([0, 1, 2, 3, 4, 5, 6, 7, 8, 9])"
      ]
     },
     "execution_count": 127,
     "metadata": {},
     "output_type": "execute_result"
    }
   ],
   "source": [
    "x\n"
   ]
  },
  {
   "cell_type": "code",
   "execution_count": 128,
   "id": "75bc903a",
   "metadata": {},
   "outputs": [
    {
     "data": {
      "text/plain": [
       "tensor([ 0,  1,  4,  9, 16, 25,  6,  7,  8,  9])"
      ]
     },
     "execution_count": 128,
     "metadata": {},
     "output_type": "execute_result"
    }
   ],
   "source": [
    "torch.where(x>5,x,x**2)"
   ]
  },
  {
   "cell_type": "code",
   "execution_count": 129,
   "id": "e1fa4947",
   "metadata": {},
   "outputs": [
    {
     "data": {
      "text/plain": [
       "tensor([0, 1, 1, 2, 2, 3, 3, 4])"
      ]
     },
     "execution_count": 129,
     "metadata": {},
     "output_type": "execute_result"
    }
   ],
   "source": [
    "x=torch.tensor([0,1,1,2,2,3,3,4])\n",
    "x"
   ]
  },
  {
   "cell_type": "code",
   "execution_count": 130,
   "id": "14b5381d",
   "metadata": {},
   "outputs": [
    {
     "data": {
      "text/plain": [
       "tensor([0, 1, 2, 3, 4])"
      ]
     },
     "execution_count": 130,
     "metadata": {},
     "output_type": "execute_result"
    }
   ],
   "source": [
    "x.unique()"
   ]
  },
  {
   "cell_type": "code",
   "execution_count": 131,
   "id": "9c7bc44d",
   "metadata": {},
   "outputs": [
    {
     "data": {
      "text/plain": [
       "1"
      ]
     },
     "execution_count": 131,
     "metadata": {},
     "output_type": "execute_result"
    }
   ],
   "source": [
    "x.ndimension()"
   ]
  },
  {
   "cell_type": "code",
   "execution_count": 132,
   "id": "cf903617",
   "metadata": {},
   "outputs": [
    {
     "data": {
      "text/plain": [
       "8"
      ]
     },
     "execution_count": 132,
     "metadata": {},
     "output_type": "execute_result"
    }
   ],
   "source": [
    "x.numel()#count of number in tensor"
   ]
  },
  {
   "cell_type": "code",
   "execution_count": 133,
   "id": "379248cf",
   "metadata": {},
   "outputs": [],
   "source": [
    "#Tensor reshaping"
   ]
  },
  {
   "cell_type": "code",
   "execution_count": 134,
   "id": "dc521b1c",
   "metadata": {},
   "outputs": [
    {
     "data": {
      "text/plain": [
       "tensor([0, 1, 2, 3, 4, 5, 6, 7, 8])"
      ]
     },
     "execution_count": 134,
     "metadata": {},
     "output_type": "execute_result"
    }
   ],
   "source": [
    "x=torch.arange(9)\n",
    "x"
   ]
  },
  {
   "cell_type": "code",
   "execution_count": 135,
   "id": "2a80cd14",
   "metadata": {},
   "outputs": [],
   "source": [
    "x_3x3=x.view(3,3)"
   ]
  },
  {
   "cell_type": "code",
   "execution_count": 136,
   "id": "dbc9f74f",
   "metadata": {},
   "outputs": [
    {
     "data": {
      "text/plain": [
       "tensor([[0, 1, 2],\n",
       "        [3, 4, 5],\n",
       "        [6, 7, 8]])"
      ]
     },
     "execution_count": 136,
     "metadata": {},
     "output_type": "execute_result"
    }
   ],
   "source": [
    "x_3x3"
   ]
  },
  {
   "cell_type": "code",
   "execution_count": 137,
   "id": "4a4454bd",
   "metadata": {},
   "outputs": [
    {
     "data": {
      "text/plain": [
       "torch.Size([3, 3])"
      ]
     },
     "execution_count": 137,
     "metadata": {},
     "output_type": "execute_result"
    }
   ],
   "source": [
    "x_3x3.shape"
   ]
  },
  {
   "cell_type": "code",
   "execution_count": 138,
   "id": "b08391f9",
   "metadata": {},
   "outputs": [
    {
     "data": {
      "text/plain": [
       "tensor([[0, 1, 2],\n",
       "        [3, 4, 5],\n",
       "        [6, 7, 8]])"
      ]
     },
     "execution_count": 138,
     "metadata": {},
     "output_type": "execute_result"
    }
   ],
   "source": [
    "x1_3x3=x.reshape(3,3)\n",
    "x1_3x3"
   ]
  },
  {
   "cell_type": "code",
   "execution_count": 139,
   "id": "b8163735",
   "metadata": {},
   "outputs": [
    {
     "data": {
      "text/plain": [
       "tensor([[0, 3, 6],\n",
       "        [1, 4, 7],\n",
       "        [2, 5, 8]])"
      ]
     },
     "execution_count": 139,
     "metadata": {},
     "output_type": "execute_result"
    }
   ],
   "source": [
    "y=x_3x3.t()#Transpose\n",
    "y"
   ]
  },
  {
   "cell_type": "code",
   "execution_count": 141,
   "id": "d7f77b73",
   "metadata": {},
   "outputs": [
    {
     "data": {
      "text/plain": [
       "tensor([0, 3, 6, 1, 4, 7, 2, 5, 8])"
      ]
     },
     "execution_count": 141,
     "metadata": {},
     "output_type": "execute_result"
    }
   ],
   "source": [
    "y.contiguous().view(9)"
   ]
  },
  {
   "cell_type": "code",
   "execution_count": 142,
   "id": "1713d77b",
   "metadata": {},
   "outputs": [
    {
     "data": {
      "text/plain": [
       "tensor([[0.2274, 0.9069, 0.3329, 0.7626, 0.3056],\n",
       "        [0.6686, 0.2228, 0.6544, 0.8951, 0.6123],\n",
       "        [0.7317, 0.3270, 0.3037, 0.8073, 0.2428],\n",
       "        [0.6329, 0.8211, 0.2177, 0.1181, 0.0814]])"
      ]
     },
     "execution_count": 142,
     "metadata": {},
     "output_type": "execute_result"
    }
   ],
   "source": [
    "x1=torch.rand((2,5))\n",
    "x2=torch.rand((2,5))\n",
    "\n",
    "torch.cat((x1,x2),dim=0)"
   ]
  },
  {
   "cell_type": "code",
   "execution_count": 144,
   "id": "5b9297cf",
   "metadata": {},
   "outputs": [
    {
     "data": {
      "text/plain": [
       "torch.Size([4, 5])"
      ]
     },
     "execution_count": 144,
     "metadata": {},
     "output_type": "execute_result"
    }
   ],
   "source": [
    "torch.cat((x1,x2),dim=0).shape"
   ]
  },
  {
   "cell_type": "code",
   "execution_count": 145,
   "id": "9c263abf",
   "metadata": {},
   "outputs": [
    {
     "data": {
      "text/plain": [
       "torch.Size([2, 10])"
      ]
     },
     "execution_count": 145,
     "metadata": {},
     "output_type": "execute_result"
    }
   ],
   "source": [
    "torch.cat((x1,x2),dim=1).shape"
   ]
  },
  {
   "cell_type": "code",
   "execution_count": 147,
   "id": "ed8738cf",
   "metadata": {},
   "outputs": [
    {
     "data": {
      "text/plain": [
       "tensor([0.2274, 0.9069, 0.3329, 0.7626, 0.3056, 0.6686, 0.2228, 0.6544, 0.8951,\n",
       "        0.6123])"
      ]
     },
     "execution_count": 147,
     "metadata": {},
     "output_type": "execute_result"
    }
   ],
   "source": [
    "x1.view(-1)"
   ]
  },
  {
   "cell_type": "code",
   "execution_count": 148,
   "id": "7f9c27e3",
   "metadata": {},
   "outputs": [
    {
     "data": {
      "text/plain": [
       "torch.Size([10])"
      ]
     },
     "execution_count": 148,
     "metadata": {},
     "output_type": "execute_result"
    }
   ],
   "source": [
    "x1.view(-1).shape"
   ]
  },
  {
   "cell_type": "code",
   "execution_count": 152,
   "id": "9b6fdffd",
   "metadata": {},
   "outputs": [
    {
     "data": {
      "text/plain": [
       "tensor([[0.8130, 0.1533, 0.3264, 0.5255, 0.5372, 0.5394, 0.8239, 0.8883, 0.6702,\n",
       "         0.6778],\n",
       "        [0.2266, 0.0210, 0.9263, 0.1437, 0.4857, 0.2326, 0.5392, 0.5486, 0.9784,\n",
       "         0.0310],\n",
       "        [0.5736, 0.4240, 0.9039, 0.4854, 0.4284, 0.6083, 0.9772, 0.2335, 0.6684,\n",
       "         0.3911],\n",
       "        [0.7678, 0.9890, 0.7752, 0.8812, 0.1098, 0.6951, 0.5487, 0.7633, 0.4159,\n",
       "         0.6090],\n",
       "        [0.6989, 0.6923, 0.1969, 0.0244, 0.7704, 0.1408, 0.9135, 0.5253, 0.4996,\n",
       "         0.9780],\n",
       "        [0.3615, 0.3060, 0.0918, 0.1093, 0.9378, 0.6521, 0.1003, 0.8813, 0.4564,\n",
       "         0.6149],\n",
       "        [0.4326, 0.7068, 0.9919, 0.2976, 0.7518, 0.3979, 0.9841, 0.9044, 0.6140,\n",
       "         0.8067],\n",
       "        [0.4561, 0.7204, 0.3570, 0.0530, 0.9627, 0.1586, 0.9858, 0.9732, 0.4884,\n",
       "         0.1330]])"
      ]
     },
     "execution_count": 152,
     "metadata": {},
     "output_type": "execute_result"
    }
   ],
   "source": [
    "batch=8\n",
    "x=torch.rand((batch,2,5))\n",
    "z=x.view(batch,-1)\n",
    "z"
   ]
  },
  {
   "cell_type": "code",
   "execution_count": 153,
   "id": "1756f07b",
   "metadata": {},
   "outputs": [
    {
     "data": {
      "text/plain": [
       "torch.Size([8, 10])"
      ]
     },
     "execution_count": 153,
     "metadata": {},
     "output_type": "execute_result"
    }
   ],
   "source": [
    "z.shape"
   ]
  },
  {
   "cell_type": "code",
   "execution_count": 154,
   "id": "b19843b2",
   "metadata": {},
   "outputs": [
    {
     "data": {
      "text/plain": [
       "tensor([[[0.8130, 0.5394],\n",
       "         [0.1533, 0.8239],\n",
       "         [0.3264, 0.8883],\n",
       "         [0.5255, 0.6702],\n",
       "         [0.5372, 0.6778]],\n",
       "\n",
       "        [[0.2266, 0.2326],\n",
       "         [0.0210, 0.5392],\n",
       "         [0.9263, 0.5486],\n",
       "         [0.1437, 0.9784],\n",
       "         [0.4857, 0.0310]],\n",
       "\n",
       "        [[0.5736, 0.6083],\n",
       "         [0.4240, 0.9772],\n",
       "         [0.9039, 0.2335],\n",
       "         [0.4854, 0.6684],\n",
       "         [0.4284, 0.3911]],\n",
       "\n",
       "        [[0.7678, 0.6951],\n",
       "         [0.9890, 0.5487],\n",
       "         [0.7752, 0.7633],\n",
       "         [0.8812, 0.4159],\n",
       "         [0.1098, 0.6090]],\n",
       "\n",
       "        [[0.6989, 0.1408],\n",
       "         [0.6923, 0.9135],\n",
       "         [0.1969, 0.5253],\n",
       "         [0.0244, 0.4996],\n",
       "         [0.7704, 0.9780]],\n",
       "\n",
       "        [[0.3615, 0.6521],\n",
       "         [0.3060, 0.1003],\n",
       "         [0.0918, 0.8813],\n",
       "         [0.1093, 0.4564],\n",
       "         [0.9378, 0.6149]],\n",
       "\n",
       "        [[0.4326, 0.3979],\n",
       "         [0.7068, 0.9841],\n",
       "         [0.9919, 0.9044],\n",
       "         [0.2976, 0.6140],\n",
       "         [0.7518, 0.8067]],\n",
       "\n",
       "        [[0.4561, 0.1586],\n",
       "         [0.7204, 0.9858],\n",
       "         [0.3570, 0.9732],\n",
       "         [0.0530, 0.4884],\n",
       "         [0.9627, 0.1330]]])"
      ]
     },
     "execution_count": 154,
     "metadata": {},
     "output_type": "execute_result"
    }
   ],
   "source": [
    "z=x.permute(0,2,1)# to change axis 5 rows and 2 columns in 8 batches-->0 dimenstion zero , and other dimentions\n",
    "z"
   ]
  },
  {
   "cell_type": "code",
   "execution_count": 155,
   "id": "d91e6c5c",
   "metadata": {},
   "outputs": [
    {
     "data": {
      "text/plain": [
       "torch.Size([8, 5, 2])"
      ]
     },
     "execution_count": 155,
     "metadata": {},
     "output_type": "execute_result"
    }
   ],
   "source": [
    "z.shape"
   ]
  },
  {
   "cell_type": "code",
   "execution_count": 156,
   "id": "a3e88940",
   "metadata": {},
   "outputs": [],
   "source": [
    "x=torch.arange(10)"
   ]
  },
  {
   "cell_type": "code",
   "execution_count": 157,
   "id": "4def22bf",
   "metadata": {},
   "outputs": [
    {
     "data": {
      "text/plain": [
       "torch.Size([10])"
      ]
     },
     "execution_count": 157,
     "metadata": {},
     "output_type": "execute_result"
    }
   ],
   "source": [
    "x.shape"
   ]
  },
  {
   "cell_type": "code",
   "execution_count": 158,
   "id": "cb5bef5d",
   "metadata": {},
   "outputs": [
    {
     "data": {
      "text/plain": [
       "torch.Size([1, 10])"
      ]
     },
     "execution_count": 158,
     "metadata": {},
     "output_type": "execute_result"
    }
   ],
   "source": [
    "x.unsqueeze(0).shape"
   ]
  },
  {
   "cell_type": "code",
   "execution_count": 159,
   "id": "fbf7515f",
   "metadata": {},
   "outputs": [
    {
     "data": {
      "text/plain": [
       "tensor([[0, 1, 2, 3, 4, 5, 6, 7, 8, 9]])"
      ]
     },
     "execution_count": 159,
     "metadata": {},
     "output_type": "execute_result"
    }
   ],
   "source": [
    "x.unsqueeze(0)"
   ]
  },
  {
   "cell_type": "code",
   "execution_count": 160,
   "id": "1816820d",
   "metadata": {},
   "outputs": [
    {
     "data": {
      "text/plain": [
       "tensor([[0],\n",
       "        [1],\n",
       "        [2],\n",
       "        [3],\n",
       "        [4],\n",
       "        [5],\n",
       "        [6],\n",
       "        [7],\n",
       "        [8],\n",
       "        [9]])"
      ]
     },
     "execution_count": 160,
     "metadata": {},
     "output_type": "execute_result"
    }
   ],
   "source": [
    "x.unsqueeze(1)"
   ]
  },
  {
   "cell_type": "code",
   "execution_count": 161,
   "id": "d14a8007",
   "metadata": {},
   "outputs": [
    {
     "data": {
      "text/plain": [
       "torch.Size([10, 1])"
      ]
     },
     "execution_count": 161,
     "metadata": {},
     "output_type": "execute_result"
    }
   ],
   "source": [
    "x.unsqueeze(1).shape"
   ]
  },
  {
   "cell_type": "code",
   "execution_count": 163,
   "id": "fe79cea9",
   "metadata": {},
   "outputs": [
    {
     "data": {
      "text/plain": [
       "tensor([[[0, 1, 2, 3, 4, 5, 6, 7, 8, 9]]])"
      ]
     },
     "execution_count": 163,
     "metadata": {},
     "output_type": "execute_result"
    }
   ],
   "source": [
    "x=torch.arange(10).unsqueeze(0).unsqueeze(1)\n",
    "x"
   ]
  },
  {
   "cell_type": "code",
   "execution_count": 164,
   "id": "d2685534",
   "metadata": {},
   "outputs": [
    {
     "data": {
      "text/plain": [
       "torch.Size([1, 1, 10])"
      ]
     },
     "execution_count": 164,
     "metadata": {},
     "output_type": "execute_result"
    }
   ],
   "source": [
    "x.shape"
   ]
  },
  {
   "cell_type": "code",
   "execution_count": 165,
   "id": "8f7ebf46",
   "metadata": {},
   "outputs": [
    {
     "data": {
      "text/plain": [
       "tensor([[0, 1, 2, 3, 4, 5, 6, 7, 8, 9]])"
      ]
     },
     "execution_count": 165,
     "metadata": {},
     "output_type": "execute_result"
    }
   ],
   "source": [
    "z=x.squeeze(1)\n",
    "z"
   ]
  },
  {
   "cell_type": "code",
   "execution_count": 166,
   "id": "3f7ab6d8",
   "metadata": {},
   "outputs": [
    {
     "data": {
      "text/plain": [
       "torch.Size([1, 10])"
      ]
     },
     "execution_count": 166,
     "metadata": {},
     "output_type": "execute_result"
    }
   ],
   "source": [
    "z.shape"
   ]
  }
 ],
 "metadata": {
  "kernelspec": {
   "display_name": "Python 3 (ipykernel)",
   "language": "python",
   "name": "python3"
  },
  "language_info": {
   "codemirror_mode": {
    "name": "ipython",
    "version": 3
   },
   "file_extension": ".py",
   "mimetype": "text/x-python",
   "name": "python",
   "nbconvert_exporter": "python",
   "pygments_lexer": "ipython3",
   "version": "3.9.12"
  }
 },
 "nbformat": 4,
 "nbformat_minor": 5
}
