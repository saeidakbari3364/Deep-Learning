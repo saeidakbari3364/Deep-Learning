{
 "cells": [
  {
   "cell_type": "markdown",
   "id": "0b2b0bac",
   "metadata": {},
   "source": [
    "# Linear Regression Using PyTorch"
   ]
  },
  {
   "cell_type": "code",
   "execution_count": 13,
   "id": "8575952e",
   "metadata": {},
   "outputs": [],
   "source": [
    "import torch\n",
    "import torch.nn as nn\n",
    "import numpy as np"
   ]
  },
  {
   "cell_type": "code",
   "execution_count": 14,
   "id": "8012ff5d",
   "metadata": {},
   "outputs": [],
   "source": [
    "#Input data(temp,rainfall,humidity)"
   ]
  },
  {
   "cell_type": "code",
   "execution_count": 15,
   "id": "a06d475d",
   "metadata": {},
   "outputs": [],
   "source": [
    "inputs=np.array([[73,67,43],\n",
    "                [91,88,64],\n",
    "                [87,134,58],\n",
    "                [102,43,37],\n",
    "                [69,96,70],\n",
    "                 [74,66,43],\n",
    "                [91,87,65],\n",
    "                [88,134,59],\n",
    "                [101,44,37],\n",
    "                [88,90,71],\n",
    "                [73,66,44],\n",
    "                [92,87,64],\n",
    "                [87,135,57],\n",
    "                [103,43,36],\n",
    "                [68,97,70]],dtype='float32')"
   ]
  },
  {
   "cell_type": "code",
   "execution_count": 16,
   "id": "6aa0fea1",
   "metadata": {},
   "outputs": [],
   "source": [
    "#Targets(apples,oranges)"
   ]
  },
  {
   "cell_type": "code",
   "execution_count": 17,
   "id": "d6bd7b9b",
   "metadata": {},
   "outputs": [],
   "source": [
    "targets=np.array([[56,70],\n",
    "                 [81,101],\n",
    "                 [119,133],\n",
    "                 [22,37],\n",
    "                 [103,119],\n",
    "                 [57,69],\n",
    "                 [80,102],\n",
    "                 [118,132],\n",
    "                 [21,38],\n",
    "                 [104,118],\n",
    "                 [57,69],\n",
    "                 [82,100],\n",
    "                 [118,134],\n",
    "                 [20,38],\n",
    "                 [102,120]],dtype='float32')"
   ]
  },
  {
   "cell_type": "code",
   "execution_count": 18,
   "id": "5dcd3192",
   "metadata": {},
   "outputs": [],
   "source": [
    "inputs=torch.from_numpy(inputs)\n",
    "targets=torch.from_numpy(targets)"
   ]
  },
  {
   "cell_type": "code",
   "execution_count": 19,
   "id": "12a0c9f6",
   "metadata": {},
   "outputs": [
    {
     "data": {
      "text/plain": [
       "tensor([[ 73.,  67.,  43.],\n",
       "        [ 91.,  88.,  64.],\n",
       "        [ 87., 134.,  58.],\n",
       "        [102.,  43.,  37.],\n",
       "        [ 69.,  96.,  70.],\n",
       "        [ 74.,  66.,  43.],\n",
       "        [ 91.,  87.,  65.],\n",
       "        [ 88., 134.,  59.],\n",
       "        [101.,  44.,  37.],\n",
       "        [ 88.,  90.,  71.],\n",
       "        [ 73.,  66.,  44.],\n",
       "        [ 92.,  87.,  64.],\n",
       "        [ 87., 135.,  57.],\n",
       "        [103.,  43.,  36.],\n",
       "        [ 68.,  97.,  70.]])"
      ]
     },
     "execution_count": 19,
     "metadata": {},
     "output_type": "execute_result"
    }
   ],
   "source": [
    "inputs"
   ]
  },
  {
   "cell_type": "code",
   "execution_count": 20,
   "id": "8f8815eb",
   "metadata": {},
   "outputs": [
    {
     "data": {
      "text/plain": [
       "tensor([[ 56.,  70.],\n",
       "        [ 81., 101.],\n",
       "        [119., 133.],\n",
       "        [ 22.,  37.],\n",
       "        [103., 119.],\n",
       "        [ 57.,  69.],\n",
       "        [ 80., 102.],\n",
       "        [118., 132.],\n",
       "        [ 21.,  38.],\n",
       "        [104., 118.],\n",
       "        [ 57.,  69.],\n",
       "        [ 82., 100.],\n",
       "        [118., 134.],\n",
       "        [ 20.,  38.],\n",
       "        [102., 120.]])"
      ]
     },
     "execution_count": 20,
     "metadata": {},
     "output_type": "execute_result"
    }
   ],
   "source": [
    "targets"
   ]
  },
  {
   "cell_type": "code",
   "execution_count": 21,
   "id": "0c9648bc",
   "metadata": {},
   "outputs": [],
   "source": [
    "#we are using 15 training examples to illustrate how to work with large datasets in small batches "
   ]
  },
  {
   "cell_type": "markdown",
   "id": "ce6a4d04",
   "metadata": {},
   "source": [
    "Dataset and Dataloader"
   ]
  },
  {
   "cell_type": "code",
   "execution_count": 22,
   "id": "959dcf7a",
   "metadata": {},
   "outputs": [],
   "source": [
    "from torch.utils.data import TensorDataset"
   ]
  },
  {
   "cell_type": "code",
   "execution_count": 23,
   "id": "2c28a747",
   "metadata": {},
   "outputs": [],
   "source": [
    "#defien dataset"
   ]
  },
  {
   "cell_type": "code",
   "execution_count": 24,
   "id": "0189231a",
   "metadata": {},
   "outputs": [
    {
     "data": {
      "text/plain": [
       "(tensor([[ 73.,  67.,  43.],\n",
       "         [ 91.,  88.,  64.],\n",
       "         [ 87., 134.,  58.]]),\n",
       " tensor([[ 56.,  70.],\n",
       "         [ 81., 101.],\n",
       "         [119., 133.]]))"
      ]
     },
     "execution_count": 24,
     "metadata": {},
     "output_type": "execute_result"
    }
   ],
   "source": [
    "train_ds=TensorDataset(inputs,targets)\n",
    "train_ds[0:3]"
   ]
  },
  {
   "cell_type": "code",
   "execution_count": 25,
   "id": "1f2306e1",
   "metadata": {},
   "outputs": [],
   "source": [
    "#we also create Dataloader, which can split the data into batches of predefine size"
   ]
  },
  {
   "cell_type": "code",
   "execution_count": 26,
   "id": "fc9a52ce",
   "metadata": {},
   "outputs": [],
   "source": [
    "from torch.utils.data import DataLoader"
   ]
  },
  {
   "cell_type": "code",
   "execution_count": 27,
   "id": "82f62acd",
   "metadata": {},
   "outputs": [],
   "source": [
    "#define data loader"
   ]
  },
  {
   "cell_type": "code",
   "execution_count": 28,
   "id": "d29c134e",
   "metadata": {},
   "outputs": [],
   "source": [
    "batch_sizes=5\n",
    "train_dl=DataLoader(train_ds,batch_sizes,shuffle=True)"
   ]
  },
  {
   "cell_type": "code",
   "execution_count": 29,
   "id": "18761d3b",
   "metadata": {},
   "outputs": [],
   "source": [
    "#we can use a data loader in a for loop"
   ]
  },
  {
   "cell_type": "code",
   "execution_count": 30,
   "id": "631e2368",
   "metadata": {},
   "outputs": [
    {
     "ename": "NameError",
     "evalue": "name 'train_dll' is not defined",
     "output_type": "error",
     "traceback": [
      "\u001b[1;31m---------------------------------------------------------------------------\u001b[0m",
      "\u001b[1;31mNameError\u001b[0m                                 Traceback (most recent call last)",
      "Input \u001b[1;32mIn [30]\u001b[0m, in \u001b[0;36m<cell line: 1>\u001b[1;34m()\u001b[0m\n\u001b[1;32m----> 1\u001b[0m \u001b[38;5;28;01mfor\u001b[39;00m xb,yb \u001b[38;5;129;01min\u001b[39;00m \u001b[43mtrain_dll\u001b[49m:\n\u001b[0;32m      2\u001b[0m     \u001b[38;5;28mprint\u001b[39m(xb)\n\u001b[0;32m      3\u001b[0m     \u001b[38;5;28mprint\u001b[39m(yb)\n",
      "\u001b[1;31mNameError\u001b[0m: name 'train_dll' is not defined"
     ]
    }
   ],
   "source": [
    "for xb,yb in train_dll:\n",
    "    print(xb)\n",
    "    print(yb)\n",
    "    break "
   ]
  },
  {
   "cell_type": "code",
   "execution_count": 31,
   "id": "54ff096a",
   "metadata": {},
   "outputs": [],
   "source": [
    "#Define Model"
   ]
  },
  {
   "cell_type": "code",
   "execution_count": 32,
   "id": "8cac98ba",
   "metadata": {},
   "outputs": [
    {
     "name": "stdout",
     "output_type": "stream",
     "text": [
      "Parameter containing:\n",
      "tensor([[ 0.3824, -0.4643,  0.1307],\n",
      "        [-0.1964,  0.2641,  0.4567]], requires_grad=True)\n",
      "Parameter containing:\n",
      "tensor([-0.3382, -0.0082], requires_grad=True)\n"
     ]
    }
   ],
   "source": [
    "model=nn.Linear(3,2)\n",
    "print(model.weight)\n",
    "print(model.bias)"
   ]
  },
  {
   "cell_type": "code",
   "execution_count": 33,
   "id": "ee38d2ff",
   "metadata": {},
   "outputs": [],
   "source": [
    "#Parameters"
   ]
  },
  {
   "cell_type": "code",
   "execution_count": 34,
   "id": "dc5ca7db",
   "metadata": {},
   "outputs": [
    {
     "data": {
      "text/plain": [
       "[Parameter containing:\n",
       " tensor([[ 0.3824, -0.4643,  0.1307],\n",
       "         [-0.1964,  0.2641,  0.4567]], requires_grad=True),\n",
       " Parameter containing:\n",
       " tensor([-0.3382, -0.0082], requires_grad=True)]"
      ]
     },
     "execution_count": 34,
     "metadata": {},
     "output_type": "execute_result"
    }
   ],
   "source": [
    "list(model.parameters())"
   ]
  },
  {
   "cell_type": "code",
   "execution_count": 35,
   "id": "7fee3ce9",
   "metadata": {},
   "outputs": [],
   "source": [
    "#Generate Prediction"
   ]
  },
  {
   "cell_type": "code",
   "execution_count": 36,
   "id": "07cc157f",
   "metadata": {},
   "outputs": [
    {
     "data": {
      "text/plain": [
       "tensor([[  2.0875,  22.9882],\n",
       "        [  1.9650,  34.5898],\n",
       "        [-21.7080,  44.7852],\n",
       "        [ 23.5361,   8.2137],\n",
       "        [ -9.3776,  43.7635],\n",
       "        [  2.9342,  22.5277],\n",
       "        [  2.5601,  34.7823],\n",
       "        [-21.1949,  45.0455],\n",
       "        [ 22.6894,   8.6742],\n",
       "        [  0.8044,  38.9039],\n",
       "        [  2.6826,  23.1808],\n",
       "        [  2.8117,  34.1293],\n",
       "        [-22.3030,  44.5927],\n",
       "        [ 23.7878,   7.5607],\n",
       "        [-10.2243,  44.2240]], grad_fn=<AddmmBackward0>)"
      ]
     },
     "execution_count": 36,
     "metadata": {},
     "output_type": "execute_result"
    }
   ],
   "source": [
    "preds=model(inputs)\n",
    "preds"
   ]
  },
  {
   "cell_type": "code",
   "execution_count": 37,
   "id": "0f5a89ae",
   "metadata": {},
   "outputs": [],
   "source": [
    "#Loss Function"
   ]
  },
  {
   "cell_type": "code",
   "execution_count": 38,
   "id": "bd2caac1",
   "metadata": {},
   "outputs": [],
   "source": [
    "import torch.nn.functional as F"
   ]
  },
  {
   "cell_type": "code",
   "execution_count": 39,
   "id": "38da3a48",
   "metadata": {},
   "outputs": [],
   "source": [
    "#Define loss function\n",
    "loss_fn=F.mse_loss"
   ]
  },
  {
   "cell_type": "code",
   "execution_count": 40,
   "id": "4e9a13ea",
   "metadata": {},
   "outputs": [],
   "source": [
    "loss=loss_fn(model(inputs),targets)"
   ]
  },
  {
   "cell_type": "code",
   "execution_count": 41,
   "id": "91f31c20",
   "metadata": {},
   "outputs": [
    {
     "name": "stdout",
     "output_type": "stream",
     "text": [
      "tensor(6179.7437, grad_fn=<MseLossBackward0>)\n"
     ]
    }
   ],
   "source": [
    "print(loss)"
   ]
  },
  {
   "cell_type": "code",
   "execution_count": 42,
   "id": "7eb87211",
   "metadata": {},
   "outputs": [],
   "source": [
    "#Optimizer"
   ]
  },
  {
   "cell_type": "code",
   "execution_count": 43,
   "id": "2300fb4e",
   "metadata": {},
   "outputs": [],
   "source": [
    "#Define Optimizer"
   ]
  },
  {
   "cell_type": "code",
   "execution_count": 44,
   "id": "a88248ba",
   "metadata": {},
   "outputs": [],
   "source": [
    "opt=torch.optim.SGD(model.parameters(),lr=1e-5)"
   ]
  },
  {
   "cell_type": "code",
   "execution_count": 45,
   "id": "de2b8bcf",
   "metadata": {},
   "outputs": [],
   "source": [
    "#Utility Function to train the model"
   ]
  },
  {
   "cell_type": "code",
   "execution_count": 46,
   "id": "9a4a144e",
   "metadata": {},
   "outputs": [],
   "source": [
    "def fit(num_epochs,model,loss_fn,opt,train_dl):\n",
    "    #Repeat for given number of epochs\n",
    "    for epoch in range(num_epochs):\n",
    "        \n",
    "        #Train with the batches of data\n",
    "        for xb,yb in train_dl:\n",
    "            \n",
    "            #1.Generate Prediction:\n",
    "            pred=model(xb)\n",
    "            \n",
    "            #2.calculate loss\n",
    "            loss=loss_fn(pred,yb)\n",
    "            \n",
    "            #3.compute gradients\n",
    "            loss.backward()\n",
    "            \n",
    "            #4.update Parameters\n",
    "            opt.step()\n",
    "            \n",
    "            #5.Reset the gradients to zero\n",
    "            opt.zero_grad()\n",
    "        #print the progress\n",
    "        if (epoch+1)%100==0:\n",
    "            print('Epoch [{}/{}], Loss:{:.4f}'.format(epoch+1,num_epochs,loss.item()))\n",
    "            "
   ]
  },
  {
   "cell_type": "code",
   "execution_count": 47,
   "id": "88e2b818",
   "metadata": {},
   "outputs": [
    {
     "name": "stdout",
     "output_type": "stream",
     "text": [
      "Epoch [100/1000], Loss:17.6322\n",
      "Epoch [200/1000], Loss:1.0150\n",
      "Epoch [300/1000], Loss:0.9273\n",
      "Epoch [400/1000], Loss:2.1267\n",
      "Epoch [500/1000], Loss:1.8438\n",
      "Epoch [600/1000], Loss:1.1583\n",
      "Epoch [700/1000], Loss:22.9141\n",
      "Epoch [800/1000], Loss:21.9145\n",
      "Epoch [900/1000], Loss:1.4915\n",
      "Epoch [1000/1000], Loss:21.2844\n"
     ]
    }
   ],
   "source": [
    "fit(1000,model,loss_fn,opt,train_dl)"
   ]
  },
  {
   "cell_type": "code",
   "execution_count": 48,
   "id": "f31ab7dd",
   "metadata": {},
   "outputs": [
    {
     "data": {
      "text/plain": [
       "tensor([[ 57.6135,  70.9653],\n",
       "        [ 83.7902, 101.9530],\n",
       "        [118.0084, 132.8009],\n",
       "        [ 21.2628,  37.8949],\n",
       "        [104.2378, 120.5782],\n",
       "        [ 56.3844,  69.8919],\n",
       "        [ 83.7729, 102.1483],\n",
       "        [118.3841, 133.4630],\n",
       "        [ 22.4919,  38.9683],\n",
       "        [ 92.2227, 111.1608],\n",
       "        [ 57.5962,  71.1605],\n",
       "        [ 82.5611, 100.8796],\n",
       "        [118.0257, 132.6057],\n",
       "        [ 20.0510,  36.6263],\n",
       "        [105.4669, 121.6516]], grad_fn=<AddmmBackward0>)"
      ]
     },
     "execution_count": 48,
     "metadata": {},
     "output_type": "execute_result"
    }
   ],
   "source": [
    "#Genetrate Predictions Using the model\n",
    "preds=model(inputs)\n",
    "preds"
   ]
  },
  {
   "cell_type": "code",
   "execution_count": 49,
   "id": "45ed29e0",
   "metadata": {},
   "outputs": [
    {
     "data": {
      "text/plain": [
       "tensor([[ 56.,  70.],\n",
       "        [ 81., 101.],\n",
       "        [119., 133.],\n",
       "        [ 22.,  37.],\n",
       "        [103., 119.],\n",
       "        [ 57.,  69.],\n",
       "        [ 80., 102.],\n",
       "        [118., 132.],\n",
       "        [ 21.,  38.],\n",
       "        [104., 118.],\n",
       "        [ 57.,  69.],\n",
       "        [ 82., 100.],\n",
       "        [118., 134.],\n",
       "        [ 20.,  38.],\n",
       "        [102., 120.]])"
      ]
     },
     "execution_count": 49,
     "metadata": {},
     "output_type": "execute_result"
    }
   ],
   "source": [
    "#compare with the targets\n",
    "targets"
   ]
  },
  {
   "cell_type": "code",
   "execution_count": 50,
   "id": "c9c61f0d",
   "metadata": {},
   "outputs": [],
   "source": [
    "#Indeed, the predictions are quite close to our targets."
   ]
  },
  {
   "cell_type": "code",
   "execution_count": 51,
   "id": "b2d9245e",
   "metadata": {},
   "outputs": [
    {
     "data": {
      "text/plain": [
       "tensor([[54.3270, 68.2436]], grad_fn=<AddmmBackward0>)"
      ]
     },
     "execution_count": 51,
     "metadata": {},
     "output_type": "execute_result"
    }
   ],
   "source": [
    "model(torch.tensor([[75.,63.,44.]]))"
   ]
  },
  {
   "cell_type": "code",
   "execution_count": 52,
   "id": "47c9310d",
   "metadata": {},
   "outputs": [],
   "source": [
    "#Create a model with more layers"
   ]
  },
  {
   "cell_type": "code",
   "execution_count": 54,
   "id": "a49f8c59",
   "metadata": {},
   "outputs": [],
   "source": [
    "model2=nn.Sequential(\n",
    "nn.Linear(3,3),\n",
    "nn.Sigmoid(),\n",
    "nn.Linear(3,2))"
   ]
  },
  {
   "cell_type": "code",
   "execution_count": 58,
   "id": "51c00161",
   "metadata": {},
   "outputs": [],
   "source": [
    "opt=torch.optim.SGD(model2.parameters(),lr=1e-3)"
   ]
  },
  {
   "cell_type": "code",
   "execution_count": 59,
   "id": "be56a104",
   "metadata": {},
   "outputs": [
    {
     "name": "stdout",
     "output_type": "stream",
     "text": [
      "Epoch [100/100], Loss:1685.2542\n"
     ]
    }
   ],
   "source": [
    "fit(100,model2,F.mse_loss,opt,train_dl)"
   ]
  },
  {
   "cell_type": "code",
   "execution_count": null,
   "id": "088ff1d7",
   "metadata": {},
   "outputs": [],
   "source": []
  }
 ],
 "metadata": {
  "kernelspec": {
   "display_name": "Python 3 (ipykernel)",
   "language": "python",
   "name": "python3"
  },
  "language_info": {
   "codemirror_mode": {
    "name": "ipython",
    "version": 3
   },
   "file_extension": ".py",
   "mimetype": "text/x-python",
   "name": "python",
   "nbconvert_exporter": "python",
   "pygments_lexer": "ipython3",
   "version": "3.9.12"
  }
 },
 "nbformat": 4,
 "nbformat_minor": 5
}
