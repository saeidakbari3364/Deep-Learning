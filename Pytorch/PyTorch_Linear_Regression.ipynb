{
 "cells": [
  {
   "cell_type": "markdown",
   "id": "0b2b0bac",
   "metadata": {},
   "source": [
    "# Linear Regression Using PyTorch"
   ]
  },
  {
   "cell_type": "code",
   "execution_count": 5,
   "id": "8575952e",
   "metadata": {},
   "outputs": [],
   "source": [
    "import torch.nn as nn\n",
    "import numpy as np"
   ]
  },
  {
   "cell_type": "code",
   "execution_count": 6,
   "id": "8012ff5d",
   "metadata": {},
   "outputs": [],
   "source": [
    "#Input data(temp,rainfall,humidity)"
   ]
  },
  {
   "cell_type": "code",
   "execution_count": 9,
   "id": "a06d475d",
   "metadata": {},
   "outputs": [],
   "source": [
    "inputs=np.array([[73,67,43],\n",
    "                [91,88,64],\n",
    "                [87,134,58],\n",
    "                [102,43,37],\n",
    "                [69,96,70],\n",
    "                 [74,66,43],\n",
    "                [91,87,65],\n",
    "                [88,134,59],\n",
    "                [101,44,37],\n",
    "                [88,90,71],\n",
    "                [73,66,44],\n",
    "                [92,87,64],\n",
    "                [87,135,57],\n",
    "                [103,43,36],\n",
    "                [68,97,70]],dtype='float32')"
   ]
  },
  {
   "cell_type": "code",
   "execution_count": 10,
   "id": "6aa0fea1",
   "metadata": {},
   "outputs": [],
   "source": [
    "#Targets(apples,oranges)"
   ]
  },
  {
   "cell_type": "code",
   "execution_count": 11,
   "id": "d6bd7b9b",
   "metadata": {},
   "outputs": [],
   "source": [
    "targets=np.array([[56,70],\n",
    "                 [81,101],\n",
    "                 [119,133],\n",
    "                 [22,37],\n",
    "                 [103,119],\n",
    "                 [57,69],\n",
    "                 [80,102],\n",
    "                 [118,132],\n",
    "                 [21,38],\n",
    "                 [104,118],\n",
    "                 [57,69],\n",
    "                 [82,100],\n",
    "                 [118,134],\n",
    "                 [20,38],\n",
    "                 [102,120]],dtype='float32')"
   ]
  },
  {
   "cell_type": "code",
   "execution_count": 12,
   "id": "5dcd3192",
   "metadata": {},
   "outputs": [],
   "source": [
    "inputs=torch.from_numpy(inputs)\n",
    "targets=torch.from_numpy(targets)"
   ]
  },
  {
   "cell_type": "code",
   "execution_count": 13,
   "id": "12a0c9f6",
   "metadata": {},
   "outputs": [
    {
     "data": {
      "text/plain": [
       "tensor([[ 73.,  67.,  43.],\n",
       "        [ 91.,  88.,  64.],\n",
       "        [ 87., 134.,  58.],\n",
       "        [102.,  43.,  37.],\n",
       "        [ 69.,  96.,  70.],\n",
       "        [ 74.,  66.,  43.],\n",
       "        [ 91.,  87.,  65.],\n",
       "        [ 88., 134.,  59.],\n",
       "        [101.,  44.,  37.],\n",
       "        [ 88.,  90.,  71.],\n",
       "        [ 73.,  66.,  44.],\n",
       "        [ 92.,  87.,  64.],\n",
       "        [ 87., 135.,  57.],\n",
       "        [103.,  43.,  36.],\n",
       "        [ 68.,  97.,  70.]])"
      ]
     },
     "execution_count": 13,
     "metadata": {},
     "output_type": "execute_result"
    }
   ],
   "source": [
    "inputs"
   ]
  },
  {
   "cell_type": "code",
   "execution_count": 14,
   "id": "8f8815eb",
   "metadata": {},
   "outputs": [
    {
     "data": {
      "text/plain": [
       "tensor([[ 56.,  70.],\n",
       "        [ 81., 101.],\n",
       "        [119., 133.],\n",
       "        [ 22.,  37.],\n",
       "        [103., 119.],\n",
       "        [ 57.,  69.],\n",
       "        [ 80., 102.],\n",
       "        [118., 132.],\n",
       "        [ 21.,  38.],\n",
       "        [104., 118.],\n",
       "        [ 57.,  69.],\n",
       "        [ 82., 100.],\n",
       "        [118., 134.],\n",
       "        [ 20.,  38.],\n",
       "        [102., 120.]])"
      ]
     },
     "execution_count": 14,
     "metadata": {},
     "output_type": "execute_result"
    }
   ],
   "source": [
    "targets"
   ]
  },
  {
   "cell_type": "code",
   "execution_count": 15,
   "id": "0c9648bc",
   "metadata": {},
   "outputs": [],
   "source": [
    "#we are using 15 training examples to illustrate how to work with large datasets in small batches "
   ]
  },
  {
   "cell_type": "markdown",
   "id": "ce6a4d04",
   "metadata": {},
   "source": [
    "Dataset and Dataloader"
   ]
  },
  {
   "cell_type": "code",
   "execution_count": 16,
   "id": "959dcf7a",
   "metadata": {},
   "outputs": [],
   "source": [
    "from torch.utils.data import TensorDataset"
   ]
  },
  {
   "cell_type": "code",
   "execution_count": 17,
   "id": "2c28a747",
   "metadata": {},
   "outputs": [],
   "source": [
    "#defien dataset"
   ]
  },
  {
   "cell_type": "code",
   "execution_count": 18,
   "id": "0189231a",
   "metadata": {},
   "outputs": [
    {
     "data": {
      "text/plain": [
       "(tensor([[ 73.,  67.,  43.],\n",
       "         [ 91.,  88.,  64.],\n",
       "         [ 87., 134.,  58.]]),\n",
       " tensor([[ 56.,  70.],\n",
       "         [ 81., 101.],\n",
       "         [119., 133.]]))"
      ]
     },
     "execution_count": 18,
     "metadata": {},
     "output_type": "execute_result"
    }
   ],
   "source": [
    "train_ds=TensorDataset(inputs,targets)\n",
    "train_ds[0:3]"
   ]
  },
  {
   "cell_type": "code",
   "execution_count": 19,
   "id": "1f2306e1",
   "metadata": {},
   "outputs": [],
   "source": [
    "#we also create Dataloader, which can split the data into batches of predefine size"
   ]
  },
  {
   "cell_type": "code",
   "execution_count": 20,
   "id": "fc9a52ce",
   "metadata": {},
   "outputs": [],
   "source": [
    "from torch.utils.data import DataLoader"
   ]
  },
  {
   "cell_type": "code",
   "execution_count": 21,
   "id": "82f62acd",
   "metadata": {},
   "outputs": [],
   "source": [
    "#define data loader"
   ]
  },
  {
   "cell_type": "code",
   "execution_count": 48,
   "id": "d29c134e",
   "metadata": {},
   "outputs": [],
   "source": [
    "batch_sizes=5\n",
    "train_dl=DataLoader(train_ds,batch_sizes,shuffle=True)"
   ]
  },
  {
   "cell_type": "code",
   "execution_count": 49,
   "id": "18761d3b",
   "metadata": {},
   "outputs": [],
   "source": [
    "#we can use a data loader in a for loop"
   ]
  },
  {
   "cell_type": "code",
   "execution_count": 50,
   "id": "631e2368",
   "metadata": {},
   "outputs": [
    {
     "name": "stdout",
     "output_type": "stream",
     "text": [
      "tensor([[103.,  43.,  36.],\n",
      "        [101.,  44.,  37.],\n",
      "        [ 68.,  97.,  70.],\n",
      "        [ 91.,  88.,  64.],\n",
      "        [ 91.,  87.,  65.]])\n",
      "tensor([[ 20.,  38.],\n",
      "        [ 21.,  38.],\n",
      "        [102., 120.],\n",
      "        [ 81., 101.],\n",
      "        [ 80., 102.]])\n"
     ]
    }
   ],
   "source": [
    "for xb,yb in train_dll:\n",
    "    print(xb)\n",
    "    print(yb)\n",
    "    break "
   ]
  },
  {
   "cell_type": "code",
   "execution_count": 51,
   "id": "54ff096a",
   "metadata": {},
   "outputs": [],
   "source": [
    "#Define Model"
   ]
  },
  {
   "cell_type": "code",
   "execution_count": 52,
   "id": "8cac98ba",
   "metadata": {},
   "outputs": [
    {
     "name": "stdout",
     "output_type": "stream",
     "text": [
      "Parameter containing:\n",
      "tensor([[ 0.3831,  0.3010, -0.5247],\n",
      "        [ 0.3081, -0.1163,  0.2686]], requires_grad=True)\n",
      "Parameter containing:\n",
      "tensor([ 0.3501, -0.1179], requires_grad=True)\n"
     ]
    }
   ],
   "source": [
    "model=nn.Linear(3,2)\n",
    "print(model.weight)\n",
    "print(model.bias)"
   ]
  },
  {
   "cell_type": "code",
   "execution_count": 53,
   "id": "ee38d2ff",
   "metadata": {},
   "outputs": [],
   "source": [
    "#Parameters"
   ]
  },
  {
   "cell_type": "code",
   "execution_count": 54,
   "id": "dc5ca7db",
   "metadata": {},
   "outputs": [
    {
     "data": {
      "text/plain": [
       "[Parameter containing:\n",
       " tensor([[ 0.3831,  0.3010, -0.5247],\n",
       "         [ 0.3081, -0.1163,  0.2686]], requires_grad=True),\n",
       " Parameter containing:\n",
       " tensor([ 0.3501, -0.1179], requires_grad=True)]"
      ]
     },
     "execution_count": 54,
     "metadata": {},
     "output_type": "execute_result"
    }
   ],
   "source": [
    "list(model.parameters())"
   ]
  },
  {
   "cell_type": "code",
   "execution_count": 55,
   "id": "7fee3ce9",
   "metadata": {},
   "outputs": [],
   "source": [
    "#Generate Prediction"
   ]
  },
  {
   "cell_type": "code",
   "execution_count": 56,
   "id": "07cc157f",
   "metadata": {},
   "outputs": [
    {
     "data": {
      "text/plain": [
       "tensor([[25.9140, 26.1257],\n",
       "        [28.1097, 34.8677],\n",
       "        [43.5702, 26.6719],\n",
       "        [32.9479, 36.2415],\n",
       "        [18.9417, 28.7701],\n",
       "        [25.9961, 26.5501],\n",
       "        [27.2840, 35.2526],\n",
       "        [43.4285, 27.2486],\n",
       "        [32.8658, 35.8171],\n",
       "        [23.8893, 35.5906],\n",
       "        [25.0883, 26.5106],\n",
       "        [28.1918, 35.2922],\n",
       "        [44.3959, 26.2870],\n",
       "        [33.8557, 36.2811],\n",
       "        [18.8597, 28.3457]], grad_fn=<AddmmBackward0>)"
      ]
     },
     "execution_count": 56,
     "metadata": {},
     "output_type": "execute_result"
    }
   ],
   "source": [
    "preds=model(inputs)\n",
    "preds"
   ]
  },
  {
   "cell_type": "code",
   "execution_count": 57,
   "id": "0f5a89ae",
   "metadata": {},
   "outputs": [],
   "source": [
    "#Loss Function"
   ]
  },
  {
   "cell_type": "code",
   "execution_count": 58,
   "id": "bd2caac1",
   "metadata": {},
   "outputs": [],
   "source": [
    "import torch.nn.functional as F"
   ]
  },
  {
   "cell_type": "code",
   "execution_count": 59,
   "id": "38da3a48",
   "metadata": {},
   "outputs": [],
   "source": [
    "#Define loss function\n",
    "loss_fn=F.mse_loss"
   ]
  },
  {
   "cell_type": "code",
   "execution_count": 60,
   "id": "4e9a13ea",
   "metadata": {},
   "outputs": [],
   "source": [
    "loss=loss_fn(model(inputs),targets)"
   ]
  },
  {
   "cell_type": "code",
   "execution_count": 61,
   "id": "91f31c20",
   "metadata": {},
   "outputs": [
    {
     "name": "stdout",
     "output_type": "stream",
     "text": [
      "tensor(4154.7764, grad_fn=<MseLossBackward0>)\n"
     ]
    }
   ],
   "source": [
    "print(loss)"
   ]
  },
  {
   "cell_type": "code",
   "execution_count": 62,
   "id": "7eb87211",
   "metadata": {},
   "outputs": [],
   "source": [
    "#Optimizer"
   ]
  },
  {
   "cell_type": "code",
   "execution_count": 63,
   "id": "2300fb4e",
   "metadata": {},
   "outputs": [],
   "source": [
    "#Define Optimizer"
   ]
  },
  {
   "cell_type": "code",
   "execution_count": 64,
   "id": "a88248ba",
   "metadata": {},
   "outputs": [],
   "source": [
    "opt=torch.optim.SGD(model.parameters(),lr=1e-5)"
   ]
  },
  {
   "cell_type": "code",
   "execution_count": 65,
   "id": "de2b8bcf",
   "metadata": {},
   "outputs": [],
   "source": [
    "#Utility Function to train the model"
   ]
  },
  {
   "cell_type": "code",
   "execution_count": 71,
   "id": "9a4a144e",
   "metadata": {},
   "outputs": [],
   "source": [
    "def fit(num_epochs,model,loss_fn,opt,train_dl):\n",
    "    #Repeat for given number of epochs\n",
    "    for epoch in range(num_epochs):\n",
    "        \n",
    "        #Train with the batches of data\n",
    "        for xb,yb in train_dl:\n",
    "            \n",
    "            #1.Generate Prediction:\n",
    "            pred=model(xb)\n",
    "            \n",
    "            #2.calculate loss\n",
    "            loss=loss_fn(pred,yb)\n",
    "            \n",
    "            #3.compute gradients\n",
    "            loss.backward()\n",
    "            \n",
    "            #4.update Parameters\n",
    "            opt.step()\n",
    "            \n",
    "            #5.Reset the gradients to zero\n",
    "            opt.zero_grad()\n",
    "        #print the progress\n",
    "        if (epoch+1)%100==0:\n",
    "            print('Epoch [{}/{}], Loss:{:.4f}'.format(epoch+1,num_epochs,loss.item()))\n",
    "            "
   ]
  },
  {
   "cell_type": "code",
   "execution_count": 72,
   "id": "88e2b818",
   "metadata": {},
   "outputs": [
    {
     "name": "stdout",
     "output_type": "stream",
     "text": [
      "Epoch [100/1000], Loss:31.6852\n",
      "Epoch [200/1000], Loss:54.3731\n",
      "Epoch [300/1000], Loss:43.8820\n",
      "Epoch [400/1000], Loss:33.7461\n",
      "Epoch [500/1000], Loss:1.4311\n",
      "Epoch [600/1000], Loss:3.4974\n",
      "Epoch [700/1000], Loss:1.5242\n",
      "Epoch [800/1000], Loss:3.3549\n",
      "Epoch [900/1000], Loss:3.5615\n",
      "Epoch [1000/1000], Loss:2.2434\n"
     ]
    }
   ],
   "source": [
    "fit(1000,model,loss_fn,opt,train_dl)"
   ]
  },
  {
   "cell_type": "code",
   "execution_count": 73,
   "id": "f31ab7dd",
   "metadata": {},
   "outputs": [
    {
     "data": {
      "text/plain": [
       "tensor([[ 57.6578,  70.8546],\n",
       "        [ 83.3801, 101.8244],\n",
       "        [118.2555, 132.7030],\n",
       "        [ 21.2934,  37.8067],\n",
       "        [103.6875, 120.4248],\n",
       "        [ 56.4197,  69.7815],\n",
       "        [ 83.3200, 102.0172],\n",
       "        [118.5996, 133.3639],\n",
       "        [ 22.5314,  38.8798],\n",
       "        [ 91.6004, 111.0170],\n",
       "        [ 57.5976,  71.0474],\n",
       "        [ 82.1421, 100.7513],\n",
       "        [118.3156, 132.5102],\n",
       "        [ 20.1154,  36.5408],\n",
       "        [104.9256, 121.4979]], grad_fn=<AddmmBackward0>)"
      ]
     },
     "execution_count": 73,
     "metadata": {},
     "output_type": "execute_result"
    }
   ],
   "source": [
    "#Genetrate Predictions Using the model\n",
    "preds=model(inputs)\n",
    "preds"
   ]
  },
  {
   "cell_type": "code",
   "execution_count": 74,
   "id": "45ed29e0",
   "metadata": {},
   "outputs": [
    {
     "data": {
      "text/plain": [
       "tensor([[ 56.,  70.],\n",
       "        [ 81., 101.],\n",
       "        [119., 133.],\n",
       "        [ 22.,  37.],\n",
       "        [103., 119.],\n",
       "        [ 57.,  69.],\n",
       "        [ 80., 102.],\n",
       "        [118., 132.],\n",
       "        [ 21.,  38.],\n",
       "        [104., 118.],\n",
       "        [ 57.,  69.],\n",
       "        [ 82., 100.],\n",
       "        [118., 134.],\n",
       "        [ 20.,  38.],\n",
       "        [102., 120.]])"
      ]
     },
     "execution_count": 74,
     "metadata": {},
     "output_type": "execute_result"
    }
   ],
   "source": [
    "#compare with the targets\n",
    "targets"
   ]
  },
  {
   "cell_type": "code",
   "execution_count": 75,
   "id": "c9c61f0d",
   "metadata": {},
   "outputs": [],
   "source": [
    "#Indeed, the predictions are quite close to our targets."
   ]
  },
  {
   "cell_type": "code",
   "execution_count": 77,
   "id": "b2d9245e",
   "metadata": {},
   "outputs": [
    {
     "data": {
      "text/plain": [
       "tensor([[54.3003, 68.1305]], grad_fn=<AddmmBackward0>)"
      ]
     },
     "execution_count": 77,
     "metadata": {},
     "output_type": "execute_result"
    }
   ],
   "source": [
    "model(torch.tensor([[75.,63.,44.]]))"
   ]
  },
  {
   "cell_type": "code",
   "execution_count": null,
   "id": "47c9310d",
   "metadata": {},
   "outputs": [],
   "source": []
  },
  {
   "cell_type": "code",
   "execution_count": null,
   "id": "a49f8c59",
   "metadata": {},
   "outputs": [],
   "source": []
  }
 ],
 "metadata": {
  "kernelspec": {
   "display_name": "Python 3 (ipykernel)",
   "language": "python",
   "name": "python3"
  },
  "language_info": {
   "codemirror_mode": {
    "name": "ipython",
    "version": 3
   },
   "file_extension": ".py",
   "mimetype": "text/x-python",
   "name": "python",
   "nbconvert_exporter": "python",
   "pygments_lexer": "ipython3",
   "version": "3.9.12"
  }
 },
 "nbformat": 4,
 "nbformat_minor": 5
}
