{
 "cells": [
  {
   "cell_type": "markdown",
   "id": "a2211589",
   "metadata": {},
   "source": [
    "# Linear Regression in Pytorch "
   ]
  },
  {
   "cell_type": "code",
   "execution_count": 47,
   "id": "a2397edc",
   "metadata": {},
   "outputs": [],
   "source": [
    "import numpy as np\n",
    "import torch"
   ]
  },
  {
   "cell_type": "code",
   "execution_count": 48,
   "id": "f98d5e2e",
   "metadata": {},
   "outputs": [],
   "source": [
    "#Input(temp,rainfall,humidity)\n",
    "inputs=np.array([[73,67,43],\n",
    "                 [91,88,64],\n",
    "                 [87,134,58],\n",
    "                 [102,43,37],\n",
    "                 [69,96,70]],dtype='float32')"
   ]
  },
  {
   "cell_type": "code",
   "execution_count": 49,
   "id": "47202a5b",
   "metadata": {},
   "outputs": [],
   "source": [
    "#Targets(apples,oranges)\n",
    "targets=np.array([[56,70],\n",
    "                  [81,101],\n",
    "                  [119,133],\n",
    "                  [22,37],\n",
    "                  [103,119]],dtype='float32')"
   ]
  },
  {
   "cell_type": "code",
   "execution_count": 50,
   "id": "59a81fbb",
   "metadata": {},
   "outputs": [
    {
     "name": "stdout",
     "output_type": "stream",
     "text": [
      "tensor([[ 73.,  67.,  43.],\n",
      "        [ 91.,  88.,  64.],\n",
      "        [ 87., 134.,  58.],\n",
      "        [102.,  43.,  37.],\n",
      "        [ 69.,  96.,  70.]])\n",
      "tensor([[ 56.,  70.],\n",
      "        [ 81., 101.],\n",
      "        [119., 133.],\n",
      "        [ 22.,  37.],\n",
      "        [103., 119.]])\n"
     ]
    }
   ],
   "source": [
    "#Convert numpy to Tensor\n",
    "inputs=torch.from_numpy(inputs)\n",
    "targets=torch.from_numpy(targets)\n",
    "print(inputs)\n",
    "print(targets)"
   ]
  },
  {
   "cell_type": "markdown",
   "id": "467e38a2",
   "metadata": {},
   "source": [
    "Linear Regression model"
   ]
  },
  {
   "cell_type": "code",
   "execution_count": 51,
   "id": "b0dc6977",
   "metadata": {},
   "outputs": [],
   "source": [
    "#Weights and Biases -->craete a tensor randomly with normal distribution with mean 0 and std 1\n",
    "\n",
    "#yeild apple=w11*temp+w12*rainfall+w13*humidity+b1\n",
    "\n",
    "#yeild orange=w21*temp+w22*rainfall+w23*humidity+b2\n",
    "\n",
    "# X(5*3) * WT(3*2) + b(1*2)=Result(5*2)"
   ]
  },
  {
   "cell_type": "code",
   "execution_count": 52,
   "id": "dcab0b40",
   "metadata": {},
   "outputs": [
    {
     "name": "stdout",
     "output_type": "stream",
     "text": [
      "tensor([[-1.6980, -0.0553,  1.8896],\n",
      "        [-1.4282,  0.1571,  0.0392]], requires_grad=True)\n",
      "tensor([-1.4816, -0.1588], requires_grad=True)\n"
     ]
    }
   ],
   "source": [
    "w=torch.randn(2,3,requires_grad=True)\n",
    "b=torch.randn(2,requires_grad=True)\n",
    "print(w)\n",
    "print(b)"
   ]
  },
  {
   "cell_type": "code",
   "execution_count": 53,
   "id": "b196459b",
   "metadata": {},
   "outputs": [],
   "source": [
    "#Add Character @-->represents multiplication in PyTorch\n",
    "#.t transpose of a tensor"
   ]
  },
  {
   "cell_type": "code",
   "execution_count": 54,
   "id": "ac3da4a4",
   "metadata": {},
   "outputs": [
    {
     "data": {
      "text/plain": [
       "tensor([[-1.6980, -1.4282],\n",
       "        [-0.0553,  0.1571],\n",
       "        [ 1.8896,  0.0392]], grad_fn=<TBackward0>)"
      ]
     },
     "execution_count": 54,
     "metadata": {},
     "output_type": "execute_result"
    }
   ],
   "source": [
    "w.t()"
   ]
  },
  {
   "cell_type": "code",
   "execution_count": 55,
   "id": "3d2ce3da",
   "metadata": {},
   "outputs": [
    {
     "data": {
      "text/plain": [
       "tensor([[ -46.4076,  -92.0416],\n",
       "        [ -38.4521, -113.6253],\n",
       "        [ -45.5419, -100.9197],\n",
       "        [-105.6590, -137.4646],\n",
       "        [   9.7984,  -80.7135]], grad_fn=<MmBackward0>)"
      ]
     },
     "execution_count": 55,
     "metadata": {},
     "output_type": "execute_result"
    }
   ],
   "source": [
    "inputs@w.t()"
   ]
  },
  {
   "cell_type": "code",
   "execution_count": 56,
   "id": "50194348",
   "metadata": {},
   "outputs": [],
   "source": [
    "def model(x):\n",
    "    return x@w.t()+b"
   ]
  },
  {
   "cell_type": "code",
   "execution_count": 57,
   "id": "30df6ab9",
   "metadata": {},
   "outputs": [
    {
     "data": {
      "text/plain": [
       "tensor([[ -47.8892,  -92.2004],\n",
       "        [ -39.9337, -113.7841],\n",
       "        [ -47.0235, -101.0785],\n",
       "        [-107.1405, -137.6234],\n",
       "        [   8.3168,  -80.8724]], grad_fn=<AddBackward0>)"
      ]
     },
     "execution_count": 57,
     "metadata": {},
     "output_type": "execute_result"
    }
   ],
   "source": [
    "inputs@w.t()+b"
   ]
  },
  {
   "cell_type": "code",
   "execution_count": 58,
   "id": "11861102",
   "metadata": {},
   "outputs": [
    {
     "data": {
      "text/plain": [
       "tensor([[ -47.8892,  -92.2004],\n",
       "        [ -39.9337, -113.7841],\n",
       "        [ -47.0235, -101.0785],\n",
       "        [-107.1405, -137.6234],\n",
       "        [   8.3168,  -80.8724]], grad_fn=<AddBackward0>)"
      ]
     },
     "execution_count": 58,
     "metadata": {},
     "output_type": "execute_result"
    }
   ],
   "source": [
    "preds=model(inputs)\n",
    "preds"
   ]
  },
  {
   "cell_type": "code",
   "execution_count": 59,
   "id": "958fe092",
   "metadata": {},
   "outputs": [],
   "source": [
    "#compare Targets and Predictions"
   ]
  },
  {
   "cell_type": "code",
   "execution_count": 60,
   "id": "16ae90b1",
   "metadata": {},
   "outputs": [
    {
     "name": "stdout",
     "output_type": "stream",
     "text": [
      "tensor([[ 56.,  70.],\n",
      "        [ 81., 101.],\n",
      "        [119., 133.],\n",
      "        [ 22.,  37.],\n",
      "        [103., 119.]])\n"
     ]
    }
   ],
   "source": [
    "print(targets)"
   ]
  },
  {
   "cell_type": "code",
   "execution_count": 61,
   "id": "240ae72c",
   "metadata": {},
   "outputs": [],
   "source": [
    "#we can see a big difference between our model's predication and the actual targets because w have initialized our model with\n",
    "# Random weights and Biases.Obviously, we can not expext a random initialized model just work."
   ]
  },
  {
   "cell_type": "code",
   "execution_count": 62,
   "id": "fd56939f",
   "metadata": {},
   "outputs": [
    {
     "data": {
      "text/plain": [
       "tensor([[-103.8892, -162.2004],\n",
       "        [-120.9337, -214.7841],\n",
       "        [-166.0235, -234.0785],\n",
       "        [-129.1405, -174.6234],\n",
       "        [ -94.6832, -199.8724]], grad_fn=<SubBackward0>)"
      ]
     },
     "execution_count": 62,
     "metadata": {},
     "output_type": "execute_result"
    }
   ],
   "source": [
    "preds-targets"
   ]
  },
  {
   "cell_type": "code",
   "execution_count": 63,
   "id": "3c76af8b",
   "metadata": {
    "scrolled": true
   },
   "outputs": [
    {
     "data": {
      "text/plain": [
       "tensor([[10792.9580, 26308.9727],\n",
       "        [14624.9492, 46132.2188],\n",
       "        [27563.7969, 54792.7539],\n",
       "        [16677.2773, 30493.3477],\n",
       "        [ 8964.9023, 39948.9648]], grad_fn=<MulBackward0>)"
      ]
     },
     "execution_count": 63,
     "metadata": {},
     "output_type": "execute_result"
    }
   ],
   "source": [
    "diff=preds-targets\n",
    "diff*diff"
   ]
  },
  {
   "cell_type": "code",
   "execution_count": 64,
   "id": "41c3b325",
   "metadata": {},
   "outputs": [],
   "source": [
    "#10 is the number of the elements--->we can use the numel method"
   ]
  },
  {
   "cell_type": "code",
   "execution_count": 65,
   "id": "32a9a36c",
   "metadata": {},
   "outputs": [
    {
     "data": {
      "text/plain": [
       "10"
      ]
     },
     "execution_count": 65,
     "metadata": {},
     "output_type": "execute_result"
    }
   ],
   "source": [
    "diff.numel()"
   ]
  },
  {
   "cell_type": "code",
   "execution_count": 66,
   "id": "6a979841",
   "metadata": {},
   "outputs": [
    {
     "data": {
      "text/plain": [
       "tensor(27630.0156, grad_fn=<DivBackward0>)"
      ]
     },
     "execution_count": 66,
     "metadata": {},
     "output_type": "execute_result"
    }
   ],
   "source": [
    "torch.sum(diff*diff)/10"
   ]
  },
  {
   "cell_type": "markdown",
   "id": "61124eab",
   "metadata": {},
   "source": [
    "Loss Function"
   ]
  },
  {
   "cell_type": "code",
   "execution_count": 67,
   "id": "7907290f",
   "metadata": {},
   "outputs": [],
   "source": [
    "#MSE loss\n",
    "def mse(t1,t2):\n",
    "    diff=t1-t2\n",
    "    return torch.sum(diff*diff)/diff.numel()"
   ]
  },
  {
   "cell_type": "code",
   "execution_count": 68,
   "id": "0280b40f",
   "metadata": {},
   "outputs": [],
   "source": [
    "#Numel() method returns the number of a elemnets in a tensor."
   ]
  },
  {
   "cell_type": "code",
   "execution_count": 69,
   "id": "ee47750e",
   "metadata": {},
   "outputs": [],
   "source": [
    "#Compute loss"
   ]
  },
  {
   "cell_type": "code",
   "execution_count": 70,
   "id": "115c578c",
   "metadata": {},
   "outputs": [
    {
     "name": "stdout",
     "output_type": "stream",
     "text": [
      "tensor(27630.0156, grad_fn=<DivBackward0>)\n"
     ]
    }
   ],
   "source": [
    "loss=mse(preds,targets)\n",
    "print(loss)"
   ]
  },
  {
   "cell_type": "markdown",
   "id": "99830acd",
   "metadata": {},
   "source": [
    "Compute Gradients"
   ]
  },
  {
   "cell_type": "markdown",
   "id": "0bf93175",
   "metadata": {},
   "source": [
    "With PyTorch we can automatically compute the gradient or derivative of the loss."
   ]
  },
  {
   "cell_type": "code",
   "execution_count": 71,
   "id": "252430b8",
   "metadata": {},
   "outputs": [],
   "source": [
    "loss.backward()"
   ]
  },
  {
   "cell_type": "code",
   "execution_count": 72,
   "id": "427c8948",
   "metadata": {},
   "outputs": [],
   "source": [
    "#Gradients for weigths"
   ]
  },
  {
   "cell_type": "code",
   "execution_count": 73,
   "id": "b2bf5d56",
   "metadata": {},
   "outputs": [
    {
     "name": "stdout",
     "output_type": "stream",
     "text": [
      "tensor([[-1.6980, -0.0553,  1.8896],\n",
      "        [-1.4282,  0.1571,  0.0392]], requires_grad=True)\n",
      "tensor([[-10547.6777, -10898.5020,  -6648.4746],\n",
      "        [-16670.7207, -17566.3008, -10949.8984]])\n"
     ]
    }
   ],
   "source": [
    "print(w)\n",
    "print(w.grad)"
   ]
  },
  {
   "cell_type": "code",
   "execution_count": 74,
   "id": "03099736",
   "metadata": {},
   "outputs": [],
   "source": [
    "#w.grad-->represents the derivatives of loss with the respect of specific weights elements"
   ]
  },
  {
   "cell_type": "code",
   "execution_count": 75,
   "id": "5e49eeed",
   "metadata": {},
   "outputs": [
    {
     "name": "stdout",
     "output_type": "stream",
     "text": [
      "tensor([-1.4816, -0.1588], requires_grad=True)\n",
      "tensor([-122.9340, -197.1118])\n"
     ]
    }
   ],
   "source": [
    "print(b)\n",
    "print(b.grad)"
   ]
  },
  {
   "cell_type": "markdown",
   "id": "67f1be4e",
   "metadata": {},
   "source": [
    "Adjust weights and Biases using Gradients to reduce the loss"
   ]
  },
  {
   "cell_type": "code",
   "execution_count": 76,
   "id": "ae2c2854",
   "metadata": {},
   "outputs": [],
   "source": [
    "with torch.no_grad():\n",
    "    w-=w.grad*1e-5\n",
    "    b-=b.grad*1e-5"
   ]
  },
  {
   "cell_type": "code",
   "execution_count": 77,
   "id": "ed8e73a5",
   "metadata": {},
   "outputs": [
    {
     "data": {
      "text/plain": [
       "(tensor([[-1.5925,  0.0537,  1.9560],\n",
       "         [-1.2614,  0.3328,  0.1487]], requires_grad=True),\n",
       " tensor([-1.4803, -0.1569], requires_grad=True))"
      ]
     },
     "execution_count": 77,
     "metadata": {},
     "output_type": "execute_result"
    }
   ],
   "source": [
    "w,b"
   ]
  },
  {
   "cell_type": "code",
   "execution_count": 78,
   "id": "528c1af1",
   "metadata": {},
   "outputs": [
    {
     "data": {
      "text/plain": [
       "tensor([[ -30.0273,  -63.5509],\n",
       "        [ -16.4884,  -76.1455],\n",
       "        [ -19.3857,  -56.6832],\n",
       "        [ -89.2344, -109.0124],\n",
       "        [  30.7124,  -44.8390]], grad_fn=<AddBackward0>)"
      ]
     },
     "execution_count": 78,
     "metadata": {},
     "output_type": "execute_result"
    }
   ],
   "source": [
    "preds=model(inputs)\n",
    "preds"
   ]
  },
  {
   "cell_type": "code",
   "execution_count": 79,
   "id": "e58a68e8",
   "metadata": {},
   "outputs": [
    {
     "name": "stdout",
     "output_type": "stream",
     "text": [
      "tensor(18701.2812, grad_fn=<DivBackward0>)\n"
     ]
    }
   ],
   "source": [
    "loss=mse(preds,targets)\n",
    "print(loss)"
   ]
  },
  {
   "cell_type": "code",
   "execution_count": 80,
   "id": "5e1d7ddf",
   "metadata": {},
   "outputs": [],
   "source": [
    "#we reset the gradients to zero by .zero() method. we need to do this because Pytorch accumulates gradients."
   ]
  },
  {
   "cell_type": "code",
   "execution_count": 81,
   "id": "a08ce389",
   "metadata": {},
   "outputs": [
    {
     "name": "stdout",
     "output_type": "stream",
     "text": [
      "tensor([[0., 0., 0.],\n",
      "        [0., 0., 0.]])\n",
      "tensor([0., 0.])\n"
     ]
    }
   ],
   "source": [
    "w.grad.zero_()\n",
    "b.grad.zero_()\n",
    "print(w.grad)\n",
    "print(b.grad)"
   ]
  },
  {
   "cell_type": "markdown",
   "id": "39a56866",
   "metadata": {},
   "source": [
    "Train the model Using Gradients Descent"
   ]
  },
  {
   "cell_type": "code",
   "execution_count": 82,
   "id": "437bc8ec",
   "metadata": {},
   "outputs": [],
   "source": [
    "#Train for 100 epoch\n",
    "for i in range(100):\n",
    "    preds=model(inputs)\n",
    "    loss=mse(preds,targets)\n",
    "    loss.backward()\n",
    "    with torch.no_grad():\n",
    "        w-=w.grad*1e-5\n",
    "        b-=b.grad*1e-5\n",
    "        w.grad.zero_()\n",
    "        b.grad.zero_()"
   ]
  },
  {
   "cell_type": "code",
   "execution_count": 83,
   "id": "9f10d59c",
   "metadata": {},
   "outputs": [
    {
     "name": "stdout",
     "output_type": "stream",
     "text": [
      "tensor(147.4864, grad_fn=<DivBackward0>)\n"
     ]
    }
   ],
   "source": [
    "preds=model(inputs)\n",
    "loss=mse(preds,targets)\n",
    "print(loss)"
   ]
  },
  {
   "cell_type": "code",
   "execution_count": 84,
   "id": "f1624d30",
   "metadata": {},
   "outputs": [],
   "source": [
    "#the loss is now much lower"
   ]
  },
  {
   "cell_type": "code",
   "execution_count": 85,
   "id": "47f51d16",
   "metadata": {},
   "outputs": [],
   "source": [
    "import math"
   ]
  },
  {
   "cell_type": "code",
   "execution_count": 86,
   "id": "2227875f",
   "metadata": {},
   "outputs": [
    {
     "data": {
      "text/plain": [
       "12.144398695601787"
      ]
     },
     "execution_count": 86,
     "metadata": {},
     "output_type": "execute_result"
    }
   ],
   "source": [
    "math.sqrt(loss)"
   ]
  },
  {
   "cell_type": "code",
   "execution_count": 89,
   "id": "817bce19",
   "metadata": {},
   "outputs": [
    {
     "data": {
      "text/plain": [
       "tensor([[ 53.6453,  69.0065],\n",
       "        [ 91.2998,  97.5353],\n",
       "        [103.6670, 142.1817],\n",
       "        [  3.2136,  29.3606],\n",
       "        [127.8752, 118.1222]], grad_fn=<AddBackward0>)"
      ]
     },
     "execution_count": 89,
     "metadata": {},
     "output_type": "execute_result"
    }
   ],
   "source": [
    "preds"
   ]
  },
  {
   "cell_type": "code",
   "execution_count": 90,
   "id": "c47ee184",
   "metadata": {},
   "outputs": [
    {
     "data": {
      "text/plain": [
       "tensor([[ 56.,  70.],\n",
       "        [ 81., 101.],\n",
       "        [119., 133.],\n",
       "        [ 22.,  37.],\n",
       "        [103., 119.]])"
      ]
     },
     "execution_count": 90,
     "metadata": {},
     "output_type": "execute_result"
    }
   ],
   "source": [
    "targets"
   ]
  },
  {
   "cell_type": "code",
   "execution_count": 43,
   "id": "9a764b15",
   "metadata": {},
   "outputs": [],
   "source": [
    "#we can see that predctions is closer to the targets"
   ]
  }
 ],
 "metadata": {
  "kernelspec": {
   "display_name": "Python 3 (ipykernel)",
   "language": "python",
   "name": "python3"
  },
  "language_info": {
   "codemirror_mode": {
    "name": "ipython",
    "version": 3
   },
   "file_extension": ".py",
   "mimetype": "text/x-python",
   "name": "python",
   "nbconvert_exporter": "python",
   "pygments_lexer": "ipython3",
   "version": "3.9.12"
  }
 },
 "nbformat": 4,
 "nbformat_minor": 5
}
